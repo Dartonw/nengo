{
 "metadata": {
  "name": ""
 },
 "nbformat": 3,
 "nbformat_minor": 0,
 "worksheets": [
  {
   "cells": [
    {
     "cell_type": "markdown",
     "metadata": {},
     "source": [
      "# Nengo Example: Matrix multiplication\n",
      "\n",
      "This example demonstrates how to perform general matrix multiplication using Nengo.  The matrix can change during the computation, which makes it distinct from doing static matrix multiplication with neural connection weights (as done in all neural networks)."
     ]
    },
    {
     "cell_type": "code",
     "collapsed": false,
     "input": [
      "import nengo\n",
      "from nengo.templates import EnsembleArray\n",
      "import numpy as np\n",
      "\n",
      "N = 100\n",
      "\n",
      "Amat = np.asarray([[.5, -.5]])\n",
      "Bmat = np.asarray([[0.58, -1.,], [.7, 0.1]])\n",
      "\n",
      "model = nengo.Model('Matrix Multiplication', seed=123)\n",
      "\n",
      "# values should stay within the range (-radius,radius)\n",
      "radius = 1\n",
      "\n",
      "# make 2 matrices to store the input\n",
      "model.add(EnsembleArray('A', nengo.LIF(N * Amat.size), Amat.size, radius=radius))\n",
      "model.add(EnsembleArray('B', nengo.LIF(N * Bmat.size), Bmat.size, radius=radius))\n",
      "\n",
      "# connect inputs to them so we can set their value\n",
      "inputA = model.make_node('input A', output=Amat.ravel())\n",
      "inputB = model.make_node('input B', output=Bmat.ravel())\n",
      "model.connect('input A', 'A')\n",
      "model.connect('input B', 'B')\n",
      "model.probe('A', sample_every=0.01, filter=0.01)\n",
      "model.probe('B', sample_every=0.01, filter=0.01)"
     ],
     "language": "python",
     "metadata": {},
     "outputs": []
    },
    {
     "cell_type": "code",
     "collapsed": false,
     "input": [
      "%matplotlib inline\n",
      "import matplotlib.pyplot as plt\n",
      "\n",
      "sim = model.simulator()\n",
      "sim.run(1)\n",
      "plt.subplot(121)\n",
      "plt.title('A')\n",
      "plt.plot(sim.data('A'))\n",
      "plt.subplot(122)\n",
      "plt.title('B')\n",
      "plt.plot(sim.data('B'));"
     ],
     "language": "python",
     "metadata": {},
     "outputs": []
    },
    {
     "cell_type": "code",
     "collapsed": false,
     "input": [
      "# The C matix is composed of populations that each contain\n",
      "# one element of A and one element of B.\n",
      "# These elements will be multiplied together in the next step.\n",
      "C = model.add(EnsembleArray('C', nengo.LIF(N * Amat.size * Bmat.shape[1] * 2),\n",
      "                            Amat.size * Bmat.shape[1], dimensions_per_ensemble=2,\n",
      "                            radius=1.5 * radius))\n",
      "\n",
      "#  determine the transformation matrices to get the correct pairwise\n",
      "#  products computed.  This looks a bit like black magic but if\n",
      "#  you manually try multiplying two matrices together, you can see\n",
      "#  the underlying pattern.  Basically, we need to build up D1*D2*D3\n",
      "#  pairs of numbers in C to compute the product of.  If i,j,k are the\n",
      "#  indexes into the D1*D2*D3 products, we want to compute the product\n",
      "#  of element (i,j) in A with the element (j,k) in B.  The index in\n",
      "#  A of (i,j) is j+i*D2 and the index in B of (j,k) is k+j*D3.\n",
      "#  The index in C is j+k*D2+i*D2*D3, multiplied by 2 since there are\n",
      "#  two values per ensemble.  We add 1 to the B index so it goes into\n",
      "#  the second value in the ensemble.\n",
      "transformA = np.zeros((C.dimensions, Amat.size))\n",
      "transformB = np.zeros((C.dimensions, Bmat.size))\n",
      "\n",
      "for i in range(Amat.shape[0]):\n",
      "    for j in range(Amat.shape[1]):\n",
      "        for k in range(Bmat.shape[1]):\n",
      "            tmp = (j + k * Amat.shape[1] + i * Bmat.size)\n",
      "            transformA[tmp * 2][j + i * Amat.shape[1]] = 1\n",
      "            transformB[tmp * 2 + 1][k + j * Bmat.shape[1]] = 1\n",
      "\n",
      "print \"A->C\"\n",
      "print transformA\n",
      "print \"B->C\"\n",
      "print transformB\n",
      "\n",
      "model.connect('A', 'C', transform=transformA)\n",
      "model.connect('B', 'C', transform=transformB)\n",
      "model.probe('C', sample_every=0.01, filter=0.01)"
     ],
     "language": "python",
     "metadata": {},
     "outputs": []
    },
    {
     "cell_type": "code",
     "collapsed": false,
     "input": [
      "# Look at C\n",
      "sim = model.simulator()\n",
      "sim.run(1)\n",
      "plt.title('C')\n",
      "plt.plot(sim.data('C'));"
     ],
     "language": "python",
     "metadata": {},
     "outputs": []
    },
    {
     "cell_type": "code",
     "collapsed": false,
     "input": [
      "# now compute the products and do the appropriate summing\n",
      "D = model.add(EnsembleArray('D', nengo.LIF(N * Amat.shape[0] * Bmat.shape[1]),\n",
      "                            Amat.shape[0] * Bmat.shape[1], radius=radius))\n",
      "\n",
      "def product(x):\n",
      "    return x[0]*x[1]\n",
      "\n",
      "# the mapping for this transformation is much easier, since we want to\n",
      "# combine D2 pairs of elements (we sum D2 products together)\n",
      "transformC = np.zeros((D.dimensions, Bmat.size))\n",
      "for i in range(Bmat.size):\n",
      "    transformC[i / Bmat.shape[0]][i] = 1\n",
      "print \"C->D\"\n",
      "print transformC\n",
      "\n",
      "model.connect('C', 'D', function=product, transform=transformC)\n",
      "model.probe('D', sample_every=0.01, filter=0.01)"
     ],
     "language": "python",
     "metadata": {},
     "outputs": []
    },
    {
     "cell_type": "code",
     "collapsed": false,
     "input": [
      "sim = model.simulator()\n",
      "sim.run(1)\n",
      "\n",
      "plt.title(\"D\")\n",
      "plt.plot(sim.data('D'))\n",
      "for d in np.dot(Amat, Bmat).flatten():\n",
      "    plt.axhline(d, color='k')"
     ],
     "language": "python",
     "metadata": {},
     "outputs": []
    }
   ],
   "metadata": {}
  }
 ]
}