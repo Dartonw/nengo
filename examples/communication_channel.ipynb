{
 "metadata": {
  "name": ""
 },
 "nbformat": 3,
 "nbformat_minor": 0,
 "worksheets": [
  {
   "cells": [
    {
     "cell_type": "markdown",
     "metadata": {},
     "source": [
      "# Communication Channel"
     ]
    },
    {
     "cell_type": "markdown",
     "metadata": {},
     "source": [
      "This example demonstrates how to create a connections from one neuronal ensemble to another that behaves like a communication channel (that is, it transmits information without changing it). \n",
      "\n",
      "Network diagram:\n",
      "\n",
      "      [Input] ---> (A) ---> (B)\n",
      "\n",
      "An abstract input signal is fed into a first neuronal ensemble $A$, which then passes it on to another ensemble $B$. The result is that spiking activity in ensemble $B$ encodes the value from the Input.  "
     ]
    },
    {
     "cell_type": "code",
     "collapsed": false,
     "input": [
      "#some imports before we get started \n",
      "%matplotlib inline\n",
      "import nengo\n",
      "import numpy as np\n",
      "import matplotlib.pyplot as plt"
     ],
     "language": "python",
     "metadata": {},
     "outputs": []
    },
    {
     "cell_type": "markdown",
     "metadata": {},
     "source": [
      "##Step 1: Create the Network"
     ]
    },
    {
     "cell_type": "code",
     "collapsed": false,
     "input": [
      "# Create a 'model' object to which we can add ensembles, connections, etc.  \n",
      "model = nengo.Model(\"Communications Channel\")\n",
      "\n",
      "# Create the model inputs\n",
      "model.make_node(\"Input\", output=np.sin)    # Create an abstract input signal that oscillates as sin(t) \n",
      "\n",
      "# Create the neuronal ensembles\n",
      "model.make_ensemble(\"A\", nengo.LIF(100), 1) # Make a population with 100 leaky-integrate-and-fire neurons, 1 dimension\n",
      "model.make_ensemble(\"B\", nengo.LIF(100), 1) # Make another population with 100 leaky-integrate-and-fire neurons, 1 dimension\n",
      "\n",
      "# Create the connections within the model\n",
      "model.connect(\"Input\", \"A\")                 # Connect the input to the first neuronal ensemble\n",
      "model.connect(\"A\", \"B\")                     # Connect the first neuronal ensemble to the second  \n",
      "                                            #   (this is the communication channel)"
     ],
     "language": "python",
     "metadata": {},
     "outputs": []
    },
    {
     "cell_type": "markdown",
     "metadata": {},
     "source": [
      "## Step 2: Add Probes to Collect Data\n",
      "Even this simple model involves many quantities that change over time, such as membrane potentials of individual neurons. Typically there are so many variables in a simulation that it is not practical to store them all. If we want to plot or analyze data from the simulation we have to \"probe\" the signals of interest. "
     ]
    },
    {
     "cell_type": "code",
     "collapsed": false,
     "input": [
      "model.probe(\"Input\")\n",
      "model.probe(\"A\", filter=.01) # ensemble output \n",
      "model.probe(\"B\", filter=.01)"
     ],
     "language": "python",
     "metadata": {},
     "outputs": []
    },
    {
     "cell_type": "markdown",
     "metadata": {},
     "source": [
      "## Step 3: Run the Model!  "
     ]
    },
    {
     "cell_type": "code",
     "collapsed": false,
     "input": [
      "sim = model.simulator()             \n",
      "sim.run(2)                          # run the model for 2 seconds"
     ],
     "language": "python",
     "metadata": {},
     "outputs": []
    },
    {
     "cell_type": "markdown",
     "metadata": {},
     "source": [
      "## Step 4: Plot the Results"
     ]
    },
    {
     "cell_type": "code",
     "collapsed": false,
     "input": [
      "plt.figure(figsize=(9,3))\n",
      "plt.subplot(1,3,1)\n",
      "plt.plot(sim.data(\"Input\"))\n",
      "plt.title(\"Input\")\n",
      "plt.subplot(1,3,2)\n",
      "plt.plot(sim.data(\"A\"))\n",
      "plt.title(\"A\")\n",
      "plt.subplot(1,3,3)\n",
      "plt.plot(sim.data(\"B\"))\n",
      "plt.title(\"B\")"
     ],
     "language": "python",
     "metadata": {},
     "outputs": []
    },
    {
     "cell_type": "markdown",
     "metadata": {},
     "source": [
      "These plots show the idealized sinusoidal input, and estimates of the sinusoid that are decoded from the spiking activity of neurons in ensembles A and B. \n",
      "\n",
      "## Step 5: Using a Different Input Function\n",
      "To drive the neural ensembles with different abstract inputs, it is convenient to use Python's \"Lambda Functions\". For example, try changing the `make_node` line to the following for higher-frequency input: \n",
      "\n",
      "    model.make_node(\"Input\", output=lambda t: np.sin(2*np.pi*t))       "
     ]
    }
   ],
   "metadata": {}
  }
 ]
}