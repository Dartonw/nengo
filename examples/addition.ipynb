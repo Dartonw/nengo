{
 "metadata": {
  "name": ""
 },
 "nbformat": 3,
 "nbformat_minor": 0,
 "worksheets": [
  {
   "cells": [
    {
     "cell_type": "markdown",
     "metadata": {},
     "source": [
      "#Nengo Example: Addition"
     ]
    },
    {
     "cell_type": "markdown",
     "metadata": {},
     "source": [
      "In this example, we will construct a network that adds two inputs. The network utilizes two communication channels into the same neural population. Addition is thus somewhat \u2018free\u2019, since the incoming currents from different synaptic connections interact linearly (though two inputs don\u2019t have to combine in this way: see the combining demo)."
     ]
    },
    {
     "cell_type": "markdown",
     "metadata": {},
     "source": [
      "##Step 1: Create the Model"
     ]
    },
    {
     "cell_type": "markdown",
     "metadata": {},
     "source": [
      "The model has three ensembles, which we will call A, B, and C."
     ]
    },
    {
     "cell_type": "code",
     "collapsed": false,
     "input": [
      "# Create the model object\n",
      "import nengo\n",
      "model = nengo.Model('Addition')\n",
      "\n",
      "# Create 3 ensembles each containing 100 leaky integrate-and-fire neurons\n",
      "model.make_ensemble('A', nengo.LIF(100), dimensions=1)\n",
      "model.make_ensemble('B', nengo.LIF(100), dimensions=1)\n",
      "model.make_ensemble('C', nengo.LIF(100), dimensions=1)"
     ],
     "language": "python",
     "metadata": {},
     "outputs": []
    },
    {
     "cell_type": "markdown",
     "metadata": {},
     "source": [
      "##Step 2: Provide Input to the Model"
     ]
    },
    {
     "cell_type": "markdown",
     "metadata": {},
     "source": [
      "We will use two constant scalar values for the two input signals that drive activity in ensembles A and B. "
     ]
    },
    {
     "cell_type": "code",
     "collapsed": false,
     "input": [
      "# Create input nodes representing constant values\n",
      "model.make_node('Input A', output=0.5)\n",
      "model.make_node('Input B', output=0.3)\n",
      "\n",
      "# Connect the input nodes to the appropriate ensembles\n",
      "model.connect('Input A', 'A')\n",
      "model.connect('Input B', 'B')\n",
      "\n",
      "# Connect input ensembles A and B to output ensemble C\n",
      "model.connect('A','C')\n",
      "model.connect('B','C')"
     ],
     "language": "python",
     "metadata": {},
     "outputs": []
    },
    {
     "cell_type": "markdown",
     "metadata": {},
     "source": [
      "##Step 3: Probe Output"
     ]
    },
    {
     "cell_type": "markdown",
     "metadata": {},
     "source": [
      "Let's collect output data from each ensemble and output. "
     ]
    },
    {
     "cell_type": "code",
     "collapsed": false,
     "input": [
      "model.probe('Input A')\n",
      "model.probe('Input B')\n",
      "model.probe('A', filter=0.01)\n",
      "model.probe('B', filter=0.01)\n",
      "model.probe('C', filter=0.01)"
     ],
     "language": "python",
     "metadata": {},
     "outputs": []
    },
    {
     "cell_type": "markdown",
     "metadata": {},
     "source": [
      "##Step 4: Run the Model"
     ]
    },
    {
     "cell_type": "markdown",
     "metadata": {},
     "source": [
      "In order to run the model, we have to create a simulator. Then, we can run that simulator over and over again without affecting the original model."
     ]
    },
    {
     "cell_type": "code",
     "collapsed": false,
     "input": [
      "# Create the simulator\n",
      "sim = model.simulator()\n",
      "# Run it for 5 seconds\n",
      "sim.run(5)"
     ],
     "language": "python",
     "metadata": {},
     "outputs": []
    },
    {
     "cell_type": "markdown",
     "metadata": {},
     "source": [
      "The data produced by running the model can now be plotted."
     ]
    },
    {
     "cell_type": "code",
     "collapsed": false,
     "input": [
      "%matplotlib inline\n",
      "import matplotlib.pyplot as plt\n",
      "\n",
      "# Plot the input signals and decoded ensemble values\n",
      "t = sim.data(model.t)\n",
      "plt.plot(t, sim.data('A'), label=\"Decoded Ensemble A\")\n",
      "plt.plot(t, sim.data('B'), label=\"Decoded Ensemble B\")\n",
      "plt.plot(t, sim.data('C'), label=\"Decoded Ensemble C\")\n",
      "plt.plot(t, sim.data('Input A'), label=\"Input A\", color='k', linewidth=2.0)\n",
      "plt.plot(t, sim.data('Input B'), label=\"Input B\", color='0.75', linewidth=2.0)\n",
      "plt.legend()\n",
      "plt.ylim(0, 1)"
     ],
     "language": "python",
     "metadata": {},
     "outputs": []
    },
    {
     "cell_type": "markdown",
     "metadata": {},
     "source": [
      "You can check that the decoded value of the activity in ensemble C provides a good estimate of the sum of inputs A and B."
     ]
    }
   ],
   "metadata": {}
  }
 ]
}