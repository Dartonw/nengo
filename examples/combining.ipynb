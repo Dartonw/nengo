{
 "metadata": {
  "name": ""
 },
 "nbformat": 3,
 "nbformat_minor": 0,
 "worksheets": [
  {
   "cells": [
    {
     "cell_type": "markdown",
     "metadata": {},
     "source": [
      "# Nengo Example: Combining\n",
      "\n",
      "This example demonstrates how to create a neuronal ensemble that will combine two 1-D inputs into one 2-D representation."
     ]
    },
    {
     "cell_type": "markdown",
     "metadata": {},
     "source": [
      "## Step 1: Create the neural populations \n",
      "\n",
      "Our model consists of three ensembles, two input ensembles and one 2-D ensemble that will represent the two inputs as one two-dimensional signal."
     ]
    },
    {
     "cell_type": "code",
     "collapsed": false,
     "input": [
      "import nengo\n",
      "model = nengo.Model('Combining')\n",
      "\n",
      "# Our input ensembles consist of 100 leaky integrate-and-fire neurons,\n",
      "# representing a one-dimensional signal\n",
      "model.make_ensemble('A', nengo.LIF(100), dimensions=1)\n",
      "model.make_ensemble('B', nengo.LIF(100), dimensions=1)\n",
      "\n",
      "# The output ensemble consists of 200 leaky integrate-and-fire neurons,\n",
      "# representing a two-dimensional signal\n",
      "model.make_ensemble('2D Population', nengo.LIF(200), dimensions=2)"
     ],
     "language": "python",
     "metadata": {},
     "outputs": []
    },
    {
     "cell_type": "markdown",
     "metadata": {},
     "source": [
      "## Step 2: Create input for the model\n",
      "\n",
      "We will use sine and cosine waves as examples of continuously changing signals."
     ]
    },
    {
     "cell_type": "code",
     "collapsed": false,
     "input": [
      "import numpy as np\n",
      "# Create input nodes generating the sine and cosine\n",
      "model.make_node('sin', output=np.sin)\n",
      "model.make_node('cos', output=np.cos)"
     ],
     "language": "python",
     "metadata": {},
     "outputs": []
    },
    {
     "cell_type": "markdown",
     "metadata": {},
     "source": [
      "## Step 3: Connect the network elements"
     ]
    },
    {
     "cell_type": "code",
     "collapsed": false,
     "input": [
      "# The transform defines which dimension the input will project to\n",
      "model.connect('sin', 'A')\n",
      "model.connect('cos', 'B')\n",
      "\n",
      "# The transform defines which dimension the input will project to\n",
      "model.connect('A', '2D Population', transform=[[1], [0]])\n",
      "model.connect('B', '2D Population', transform=[[0], [1]])"
     ],
     "language": "python",
     "metadata": {},
     "outputs": []
    },
    {
     "cell_type": "markdown",
     "metadata": {},
     "source": [
      "## Step 4: Probe outputs\n",
      "\n",
      "Anything that is probed will collect the data it produces over time, allowing us to analyze and visualize it later."
     ]
    },
    {
     "cell_type": "code",
     "collapsed": false,
     "input": [
      "model.probe('sin')\n",
      "model.probe('cos')\n",
      "model.probe('A', filter=0.01) #10ms filter\n",
      "model.probe('B', filter=0.01) #10ms filter\n",
      "asdf = model.probe('2D Population', filter=0.01) #10ms filter"
     ],
     "language": "python",
     "metadata": {},
     "outputs": []
    },
    {
     "cell_type": "markdown",
     "metadata": {},
     "source": [
      "## Step 5: Run the model"
     ]
    },
    {
     "cell_type": "code",
     "collapsed": false,
     "input": [
      "# Create our simulator\n",
      "sim = model.simulator()\n",
      "# Run it for 5 seconds\n",
      "sim.run(5)"
     ],
     "language": "python",
     "metadata": {},
     "outputs": []
    },
    {
     "cell_type": "markdown",
     "metadata": {},
     "source": [
      "## Step 6: Plot the results"
     ]
    },
    {
     "cell_type": "code",
     "collapsed": false,
     "input": [
      "%matplotlib inline\n",
      "import matplotlib.pyplot as plt\n",
      "# Plot the decoded output of the ensemble\n",
      "t = sim.data(model.t) #Get the time steps\n",
      "plt.plot(t, sim.data('2D Population'), label=\"2D output\")\n",
      "plt.plot(t, sim.data('A'), label=\"A output\")\n",
      "plt.plot(t, sim.data('sin'), 'k', label=\"Sine\")\n",
      "plt.legend()"
     ],
     "language": "python",
     "metadata": {},
     "outputs": []
    },
    {
     "cell_type": "markdown",
     "metadata": {},
     "source": [
      "The graph shows that the input signal (Sine), the output from the 1D population (A output), and the 2D population (blue line) are all equal.  The other dimension in the 2D population is shown in green."
     ]
    },
    {
     "cell_type": "code",
     "collapsed": false,
     "input": [],
     "language": "python",
     "metadata": {},
     "outputs": []
    }
   ],
   "metadata": {}
  }
 ]
}