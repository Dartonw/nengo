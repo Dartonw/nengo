{
 "metadata": {
  "name": ""
 },
 "nbformat": 3,
 "nbformat_minor": 0,
 "worksheets": [
  {
   "cells": [
    {
     "cell_type": "markdown",
     "metadata": {},
     "source": [
      "# Nengo Example: Inhibitory Gating of Ensembles\n",
      "\n",
      "Blah blah\n"
     ]
    },
    {
     "cell_type": "markdown",
     "metadata": {},
     "source": [
      "## Step 1: Create the network\n",
      "\n",
      "Our model consists of two ensembles (called A and B) that receive inputs from a common sine wave signal generator. \n",
      "\n",
      "Ensemble A is gated using the output of a node, while Ensemble B is gated using the output of a third ensemble (C). This is to demonstrate that ensembles can be gated using either node outputs, or decoded outputs from ensembles."
     ]
    },
    {
     "cell_type": "code",
     "collapsed": false,
     "input": [
      "import nengo\n",
      "model = nengo.Model(\"Inhibitory Gating\")\n",
      "\n",
      "n_neurons = 30\n",
      "\n",
      "a = model.make_ensemble('A', nengo.LIF(n_neurons), dimensions=1)\n",
      "b = model.make_ensemble('B', nengo.LIF(n_neurons), dimensions=1)\n",
      "c = model.make_ensemble('C', nengo.LIF(n_neurons), dimensions=1)"
     ],
     "language": "python",
     "metadata": {},
     "outputs": []
    },
    {
     "cell_type": "markdown",
     "metadata": {},
     "source": [
      "## Step 2: Provide input to the model\n",
      "As described in Step 1, this model requires two inputs. \n",
      "<ol>\n",
      "  <li>A sine wave signal that is used to drive ensembles A and B\n",
      "  <li>An inhibitory control signal used to (directly) gate ensemble A, and (indirectly through ensemble C) gate ensemble B.\n",
      "</ol>"
     ]
    },
    {
     "cell_type": "code",
     "collapsed": false,
     "input": [
      "import numpy as np\n",
      "from nengo.helpers import piecewise as piecewise_input\n",
      "\n",
      "model.make_node('Sin', np.sin)\n",
      "model.make_node('Inhib', \n",
      "                piecewise_input({0:0,2.5:1,5:0,7.5:1,10:0,12.5:1}));"
     ],
     "language": "python",
     "metadata": {},
     "outputs": []
    },
    {
     "cell_type": "markdown",
     "metadata": {},
     "source": [
      "## Step 3: Connect the different components of the model\n",
      "In this model, we need to make the following connections:\n",
      "<ol>\n",
      "  <li>From sine wave generator to Ensemble A \n",
      "  <li>From sine wave generator to Ensemble B \n",
      "  <li>From inhibitory control signal to the neurons of Ensemble A (to directly drive the currents of the neurons) \n",
      "  <li>From inhibitory control signal to Ensemble C\n",
      "  <li>From Ensemble C to the neurons of Ensemble B (this demonstrates that the decoded output of Ensemble C can be used to gate Ensemble B)\n",
      "</ol>"
     ]
    },
    {
     "cell_type": "code",
     "collapsed": false,
     "input": [
      "model.connect('Sin', 'A')\n",
      "model.connect('Sin', 'B')\n",
      "model.connect('Inhib', a.neurons, transform=[[-2.5]]*n_neurons)\n",
      "model.connect('Inhib', 'C')\n",
      "model.connect('C', b.neurons, transform=[[-2.5]]*n_neurons);"
     ],
     "language": "python",
     "metadata": {},
     "outputs": []
    },
    {
     "cell_type": "markdown",
     "metadata": {},
     "source": [
      "## Step 4: Probe outputs\n",
      "Anything that is probed will collect the data it produces over time, allowing us to analyze and visualize it later. Let's collect all the data produced."
     ]
    },
    {
     "cell_type": "code",
     "collapsed": false,
     "input": [
      "model.probe('Sin')\n",
      "model.probe('Inhib')\n",
      "model.probe('A', filter=0.01)\n",
      "model.probe('B', filter=0.01)\n",
      "model.probe('C', filter=0.01)"
     ],
     "language": "python",
     "metadata": {},
     "outputs": []
    },
    {
     "cell_type": "markdown",
     "metadata": {},
     "source": [
      "## Step 5: Run the model\n",
      "In order to run the model, we have to create a simulator. Then, we can run that simulator over and over again without affecting the original model."
     ]
    },
    {
     "cell_type": "code",
     "collapsed": false,
     "input": [
      "# Create our simulator\n",
      "sim = model.simulator()\n",
      "# Run it for 15 seconds\n",
      "sim.run(15)"
     ],
     "language": "python",
     "metadata": {},
     "outputs": []
    },
    {
     "cell_type": "code",
     "collapsed": false,
     "input": [
      "%matplotlib inline\n",
      "import matplotlib.pyplot as plt\n",
      "\n",
      "# Plot the decoded output of Ensemble A\n",
      "t = sim.data(model.t)\n",
      "plt.plot(sim.data('A'), label = 'Decoded output')\n",
      "plt.plot(sim.data('Sin'), label = 'Sine input')\n",
      "plt.plot(sim.data('Inhib'), label = 'Inhibitory signal')\n",
      "plt.legend();"
     ],
     "language": "python",
     "metadata": {},
     "outputs": []
    },
    {
     "cell_type": "code",
     "collapsed": false,
     "input": [
      "# Plot the decoded output of Ensemble B and C\n",
      "t = sim.data(model.t)\n",
      "plt.plot(sim.data('B'), label = 'Decoded output of B')\n",
      "plt.plot(sim.data('Sin'), label = 'Sine input')\n",
      "plt.plot(sim.data('C'), label = 'Decoded output of C')\n",
      "plt.plot(sim.data('Inhib'), label = 'Inhibitory signal')\n",
      "plt.legend();"
     ],
     "language": "python",
     "metadata": {},
     "outputs": []
    }
   ],
   "metadata": {}
  }
 ]
}