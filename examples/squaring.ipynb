{
 "metadata": {
  "name": ""
 },
 "nbformat": 3,
 "nbformat_minor": 0,
 "worksheets": [
  {
   "cells": [
    {
     "cell_type": "markdown",
     "metadata": {},
     "source": [
      "# Nengo Example: Squaring the Input"
     ]
    },
    {
     "cell_type": "markdown",
     "metadata": {},
     "source": [
      "This demo shows you how to construct a network that squares the value encoded in a first population in the output of a second population. "
     ]
    },
    {
     "cell_type": "markdown",
     "metadata": {},
     "source": [
      "## Step 1: Create the Model"
     ]
    },
    {
     "cell_type": "markdown",
     "metadata": {},
     "source": [
      "The model is comprised of an input ensemble ('A') and an output ensemble ('B'), from which the squared value of the input signal can be decoded."
     ]
    },
    {
     "cell_type": "code",
     "collapsed": false,
     "input": [
      "# Create the model object\n",
      "import nengo\n",
      "model = nengo.Model('Squaring')\n",
      "\n",
      "# Create two ensembles of 100 leaky-integrate-and-fire neurons\n",
      "model.make_ensemble('A', nengo.LIF(100), dimensions=1)\n",
      "model.make_ensemble('B', nengo.LIF(100), dimensions=1)"
     ],
     "language": "python",
     "metadata": {},
     "outputs": []
    },
    {
     "cell_type": "markdown",
     "metadata": {},
     "source": [
      "##Step 2: Provide Input to the Model"
     ]
    },
    {
     "cell_type": "markdown",
     "metadata": {},
     "source": [
      "A single input signal (a sine wave) will be used to drive the neural activity in ensemble A."
     ]
    },
    {
     "cell_type": "code",
     "collapsed": false,
     "input": [
      "import numpy as np\n",
      "\n",
      "# Create an input node that represents a sine wave\n",
      "model.make_node('Input', output=np.sin)\n",
      "\n",
      "# Connect the input node to ensemble A\n",
      "model.connect('Input', 'A')\n",
      "\n",
      "# Define the squaring function\n",
      "def square(x):\n",
      "    return x[0]*x[0]\n",
      "\n",
      "# Connection ensemble A to ensemble B\n",
      "model.connect('A','B', function=square)"
     ],
     "language": "python",
     "metadata": {},
     "outputs": []
    },
    {
     "cell_type": "markdown",
     "metadata": {},
     "source": [
      "##Step 3: Probe the Output"
     ]
    },
    {
     "cell_type": "markdown",
     "metadata": {},
     "source": [
      "Let's collect output data from each ensemble and output."
     ]
    },
    {
     "cell_type": "code",
     "collapsed": false,
     "input": [
      "model.probe('Input')\n",
      "model.probe('A', filter=0.01)\n",
      "model.probe('B', filter=0.01)"
     ],
     "language": "python",
     "metadata": {},
     "outputs": []
    },
    {
     "cell_type": "markdown",
     "metadata": {},
     "source": [
      "## Step 4: Run the Model"
     ]
    },
    {
     "cell_type": "code",
     "collapsed": false,
     "input": [
      "# Create the simulator\n",
      "sim = model.simulator()\n",
      "# Run the simulator for 5 seconds\n",
      "sim.run(5)"
     ],
     "language": "python",
     "metadata": {},
     "outputs": []
    },
    {
     "cell_type": "code",
     "collapsed": false,
     "input": [
      "%matplotlib inline\n",
      "import matplotlib.pyplot as plt\n",
      "\n",
      "# Plot the input signal and decoded ensemble values\n",
      "t = sim.data(model.t)\n",
      "plt.plot(t, sim.data('A'),  label='Decoded Ensemble A')\n",
      "plt.plot(t, sim.data('B'), label='Decoded Ensemble B')\n",
      "plt.plot(t, sim.data('Input'), label='Input Sine Wave', color='k', linewidth=2.0)\n",
      "plt.legend()\n",
      "plt.ylim(-1.2,1.2)"
     ],
     "language": "python",
     "metadata": {},
     "outputs": []
    },
    {
     "cell_type": "markdown",
     "metadata": {},
     "source": [
      "The plotted ouput of ensemble B should show the decoded squared value of the input sine wave.  "
     ]
    }
   ],
   "metadata": {}
  }
 ]
}