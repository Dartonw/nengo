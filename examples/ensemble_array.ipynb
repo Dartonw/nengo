{
 "metadata": {
  "name": ""
 },
 "nbformat": 3,
 "nbformat_minor": 0,
 "worksheets": [
  {
   "cells": [
    {
     "cell_type": "markdown",
     "metadata": {},
     "source": [
      "# Nengo Template: Ensemble Array\n",
      "\n",
      "An ensemble array is a group of ensembles that each represent a part of the overall signal.\n",
      "\n",
      "Ensemble arrays can be used like a normal ensemble. The major difference is that, in an ensemble array, the components of the overall signal are not related. As a result, network arrays cannot be used to compute nonlinear functions that mix the dimensions they represent."
     ]
    },
    {
     "cell_type": "code",
     "collapsed": false,
     "input": [
      "import nengo\n",
      "from nengo.templates import EnsembleArray\n",
      "import numpy as np\n",
      "\n",
      "model = nengo.Model('Ensemble Array')\n",
      "\n",
      "#Make an input node\n",
      "model.make_node('input', lambda t: [np.cos(t), np.sin(t)])\n",
      "\n",
      "#Make ensembles to connect\n",
      "nperd = 100\n",
      "model.add(EnsembleArray('A', nengo.LIF(nperd * 2), 2))\n",
      "model.make_ensemble('B', nengo.LIF(nperd * 2), 2)\n",
      "model.add(EnsembleArray('C', nengo.LIF(nperd * 2), 2))\n",
      "\n",
      "#Connect the model elements, just feedforward\n",
      "model.connect('input', 'A')\n",
      "model.connect('A', 'B')\n",
      "model.connect('B', 'C')\n",
      "\n",
      "#Setup the probes for plotting\n",
      "model.probe('input')\n",
      "model.probe('A', filter=0.02)\n",
      "model.probe('B', filter=0.02)\n",
      "model.probe('C', filter=0.02)"
     ],
     "language": "python",
     "metadata": {},
     "outputs": []
    },
    {
     "cell_type": "code",
     "collapsed": false,
     "input": [
      "#Setup and run the simulator\n",
      "sim = model.simulator()\n",
      "sim.run(10)"
     ],
     "language": "python",
     "metadata": {},
     "outputs": []
    },
    {
     "cell_type": "code",
     "collapsed": false,
     "input": [
      "%matplotlib inline\n",
      "import matplotlib.pyplot as plt\n",
      "\n",
      "#Plot the results\n",
      "t=sim.data(model.t)\n",
      "plt.plot(t, sim.data('input'))\n",
      "plt.plot(t, sim.data('A'))\n",
      "plt.plot(t, sim.data('B'))\n",
      "plt.plot(t, sim.data('C'));"
     ],
     "language": "python",
     "metadata": {},
     "outputs": []
    },
    {
     "cell_type": "markdown",
     "metadata": {},
     "source": [
      "These plots demonstrate that the network array works very similarly to a standard N-dimensional population. However, this is not true when it comes to computing functions. Network arrays cannot be used to compute nonlinear functions that mix the dimensions they represent."
     ]
    }
   ],
   "metadata": {}
  }
 ]
}