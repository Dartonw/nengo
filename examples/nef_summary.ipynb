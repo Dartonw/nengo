{
 "metadata": {
  "name": ""
 },
 "nbformat": 3,
 "nbformat_minor": 0,
 "worksheets": [
  {
   "cells": [
    {
     "cell_type": "code",
     "collapsed": false,
     "input": [
      "import numpy as np\n",
      "import matplotlib.pyplot as plt\n",
      "import nengo\n",
      "import nengo.objects\n",
      "import nengo.ipython\n",
      "from nengo.helpers import tuning_curves\n",
      "from nengo.matplotlib import rasterplot\n",
      "plt.rc('axes', color_cycle=\"377EB8, E41A1C, 4DAF4A, 984EA3, FF7F00, 222222, A65628, E7298A\")\n",
      "\n",
      "def aligned(n_neurons, radius=0.9):\n",
      "    intercepts = np.linspace(-radius, radius, n_neurons)\n",
      "    encoders = np.tile([[1],[-1]], (n_neurons/2,1))\n",
      "    intercepts *= encoders[:,0]\n",
      "    return intercepts, encoders\n",
      "\n",
      "%matplotlib inline\n",
      "nengo.ipython.hide_input()"
     ],
     "language": "python",
     "metadata": {},
     "outputs": []
    },
    {
     "cell_type": "markdown",
     "metadata": {},
     "source": [
      "# Introduction \n",
      "The Neural Engineering Framework (NEF) is the set of theoretical methods that are used in Nengo for constructing neural models.  The NEF is based on <a href=\"http://www.amazon.com/gp/product/0262550601\">Eliasmith & Anderson's (2003) book</a> from MIT Press. This notebook introduces the three main principles discussed in that book and implemented in Nengo."
     ]
    },
    {
     "cell_type": "markdown",
     "metadata": {},
     "source": [
      "# Principle 1: Representation\n",
      "\n",
      "## Encoding\n",
      "\n",
      "Neural populations represent time-varying signals through their spiking responses. A signal is a vector of real numbers of arbitrary length. This example is a 1D signal going from -1 to 1 in 1 second."
     ]
    },
    {
     "cell_type": "code",
     "collapsed": false,
     "input": [
      "model = nengo.Model(\"NEF summary\")\n",
      "model.make_node(\"Input signal\", output=lambda t: t * 2 - 1)\n",
      "model.probe(\"Input signal\")"
     ],
     "language": "python",
     "metadata": {},
     "outputs": []
    },
    {
     "cell_type": "code",
     "collapsed": false,
     "input": [
      "sim = model.simulator()\n",
      "sim.run(1.0)\n",
      "\n",
      "plt.plot(sim.data(model.t), sim.data(\"Input signal\"), lw=2)\n",
      "plt.title(\"Input signal\")\n",
      "plt.xlabel(\"Time (s)\")\n",
      "plt.xlim(0, 1)\n",
      "nengo.ipython.hide_input()"
     ],
     "language": "python",
     "metadata": {},
     "outputs": []
    },
    {
     "cell_type": "markdown",
     "metadata": {},
     "source": [
      "These signals drive neural populations based on each neuron's *tuning curve* (which is similar to the I-F (current-frequency) curve, if you're familiar with that).\n",
      "\n",
      "The tuning curve describes how much a particular neuron will fire as a function of the input signal."
     ]
    },
    {
     "cell_type": "code",
     "collapsed": false,
     "input": [
      "intercepts, encoders = aligned(8) #aligned makes the intercepts evenly spaced\n",
      "model.make_ensemble(\"A\", nengo.LIF(8), 1, \n",
      "                    intercepts=intercepts,\n",
      "                    max_rates=nengo.objects.Uniform(80, 100), \n",
      "                    encoders=encoders)"
     ],
     "language": "python",
     "metadata": {},
     "outputs": []
    },
    {
     "cell_type": "code",
     "collapsed": false,
     "input": [
      "sim = model.simulator()\n",
      "\n",
      "eval_points, activities = tuning_curves(sim.get(\"A\"))\n",
      "plt.plot(eval_points, activities, lw=2)\n",
      "plt.xlabel(\"Input signal\")\n",
      "plt.ylabel(\"Firing rate (Hz)\")\n",
      "nengo.ipython.hide_input()"
     ],
     "language": "python",
     "metadata": {},
     "outputs": []
    },
    {
     "cell_type": "markdown",
     "metadata": {},
     "source": [
      "We can drive these neurons with our input signal and observe their spiking activity over time."
     ]
    },
    {
     "cell_type": "code",
     "collapsed": false,
     "input": [
      "model.connect(\"Input signal\", \"A\")\n",
      "model.probe(\"A.spikes\")"
     ],
     "language": "python",
     "metadata": {},
     "outputs": []
    },
    {
     "cell_type": "code",
     "collapsed": false,
     "input": [
      "sim = model.simulator()\n",
      "sim.run(1)\n",
      "\n",
      "ax = plt.subplot(1,1,1)\n",
      "rasterplot(sim.data(model.t), sim.data(\"A.spikes\"), ax)\n",
      "ax.set_xlim(0, 1)\n",
      "ax.set_ylabel('Neuron')\n",
      "ax.set_xlabel('Time (s)')\n",
      "nengo.ipython.hide_input()"
     ],
     "language": "python",
     "metadata": {},
     "outputs": []
    },
    {
     "cell_type": "markdown",
     "metadata": {},
     "source": [
      "## Decoding\n",
      "\n",
      "We can estimate the input signal originally encoded by decoding the pattern of spikes. To do this, we first filter the spike train with a temporal filter that accounts for postsynaptic current (PSC) activity."
     ]
    },
    {
     "cell_type": "code",
     "collapsed": false,
     "input": [
      "# Hack to remove probe, should make it possible to probe again\n",
      "model.get(\"A\").probes['spikes'] = []\n",
      "del model.get(\"A\").connections_out[0]\n",
      "del model.probed[\"A.spikes\"]\n",
      "# End hack\n",
      "model.probe(\"A.spikes\", filter=0.01)"
     ],
     "language": "python",
     "metadata": {},
     "outputs": []
    },
    {
     "cell_type": "code",
     "collapsed": false,
     "input": [
      "sim = model.simulator()\n",
      "sim.run(1)\n",
      "\n",
      "scale = 0.2\n",
      "for i in xrange(model.get(\"A\").n_neurons):\n",
      "    plt.plot(sim.data(model.t), sim.data(\"A.spikes\")[:,i] - i*scale)\n",
      "plt.xlim(0, 1)\n",
      "plt.ylim(scale * (-model.get(\"A\").n_neurons+1), scale)\n",
      "plt.ylabel(\"Neuron\")\n",
      "plt.yticks(np.arange(scale/1.8, (-model.get(\"A\").n_neurons+1) * scale, -scale), np.arange(model.get(\"A\").n_neurons))\n",
      "nengo.ipython.hide_input()"
     ],
     "language": "python",
     "metadata": {},
     "outputs": []
    },
    {
     "cell_type": "markdown",
     "metadata": {},
     "source": [
      "Then we mulitply those filtered spike trains with decoding weights and sum them together to give an estimate of the input based on the spikes.\n",
      "\n",
      "The decoding weights are determined by minimizing the squared difference between the decoded estimate and the actual input signal."
     ]
    },
    {
     "cell_type": "code",
     "collapsed": false,
     "input": [
      "model.probe(\"A\", filter=0.01) #10ms PSC filter"
     ],
     "language": "python",
     "metadata": {},
     "outputs": []
    },
    {
     "cell_type": "code",
     "collapsed": false,
     "input": [
      "sim = model.simulator()\n",
      "sim.run(1)\n",
      "\n",
      "plt.plot(sim.data(model.t), sim.data(\"Input signal\"), label=\"Input signal\")\n",
      "plt.plot(sim.data(model.t), sim.data(\"A\"), label=\"Decoded estimate\")\n",
      "plt.legend(loc=\"best\")\n",
      "plt.xlim(0, 1)\n",
      "nengo.ipython.hide_input()"
     ],
     "language": "python",
     "metadata": {},
     "outputs": []
    },
    {
     "cell_type": "markdown",
     "metadata": {},
     "source": [
      "The accuracy of the decoded estimate increases as the number of neurons increases."
     ]
    },
    {
     "cell_type": "code",
     "collapsed": false,
     "input": [
      "model = nengo.Model(\"NEF summary\")\n",
      "model.make_node(\"Input signal\", output=lambda t: t * 2 - 1)\n",
      "model.probe(\"Input signal\")\n",
      "model.make_ensemble(\"A\", nengo.LIF(30), 1, \n",
      "                    max_rates=nengo.objects.Uniform(80, 100))\n",
      "model.connect(\"Input signal\", \"A\")\n",
      "model.probe(\"A.spikes\")\n",
      "model.probe(\"A\", filter=0.01)"
     ],
     "language": "python",
     "metadata": {},
     "outputs": []
    },
    {
     "cell_type": "code",
     "collapsed": false,
     "input": [
      "sim = model.simulator()\n",
      "sim.run(1)\n",
      "\n",
      "plt.figure(figsize=(15,3.5))\n",
      "\n",
      "plt.subplot(1,3,1)\n",
      "eval_points, activities = tuning_curves(sim.get(\"A\"))\n",
      "plt.plot(eval_points, activities, lw=2)\n",
      "plt.xlabel(\"Input signal\")\n",
      "plt.ylabel(\"Firing rate (Hz)\");\n",
      "\n",
      "ax = plt.subplot(1,3,2)\n",
      "rasterplot(sim.data(model.t), sim.data(\"A.spikes\"), ax)\n",
      "plt.xlim(0, 1)\n",
      "plt.xlabel(\"Time (s)\")\n",
      "plt.ylabel(\"Neuron\")\n",
      "\n",
      "plt.subplot(1,3,3)\n",
      "plt.plot(sim.data(model.t), sim.data(\"Input signal\"), label=\"Input signal\")\n",
      "plt.plot(sim.data(model.t), sim.data(\"A\"), label=\"Decoded esimate\")\n",
      "plt.legend(loc=\"best\")\n",
      "plt.xlabel(\"Time (s)\")\n",
      "plt.xlim(0, 1)\n",
      "nengo.ipython.hide_input()"
     ],
     "language": "python",
     "metadata": {},
     "outputs": []
    },
    {
     "cell_type": "markdown",
     "metadata": {},
     "source": [
      "Any smooth signal can be encoded and decoded."
     ]
    },
    {
     "cell_type": "code",
     "collapsed": false,
     "input": [
      "from nengo.helpers import white_noise\n",
      "from nengo.objects import Uniform\n",
      "\n",
      "model = nengo.Model(\"NEF summary\")\n",
      "model.make_node(\"Input signal\", output=white_noise(1, 5, seed=60))\n",
      "model.probe(\"Input signal\")\n",
      "model.make_ensemble(\"A\", nengo.LIF(30), 1, \n",
      "                    max_rates=nengo.objects.Uniform(80, 100))\n",
      "model.connect(\"Input signal\", \"A\")\n",
      "model.probe(\"A.spikes\")\n",
      "model.probe(\"A\", filter=0.01)"
     ],
     "language": "python",
     "metadata": {},
     "outputs": []
    },
    {
     "cell_type": "code",
     "collapsed": false,
     "input": [
      "sim = model.simulator()\n",
      "sim.run(1)\n",
      "\n",
      "plt.figure(figsize=(10,3.5))\n",
      "plt.subplot(1,2,1)\n",
      "plt.plot(sim.data(model.t), sim.data(\"Input signal\"), label=\"Input signal\")\n",
      "plt.plot(sim.data(model.t), sim.data(\"A\"), label=\"Decoded esimate\")\n",
      "plt.legend(loc=\"best\")\n",
      "plt.xlabel(\"Time (s)\")\n",
      "plt.xlim(0, 1)\n",
      "\n",
      "ax = plt.subplot(1,2,2)\n",
      "rasterplot(sim.data(model.t), sim.data(\"A.spikes\"), ax)\n",
      "plt.xlim(0, 1)\n",
      "plt.xlabel(\"Time (s)\")\n",
      "plt.ylabel(\"Neuron\")\n",
      "nengo.ipython.hide_input()"
     ],
     "language": "python",
     "metadata": {},
     "outputs": []
    },
    {
     "cell_type": "markdown",
     "metadata": {},
     "source": [
      "# Principle 2: Transformation\n",
      "\n",
      "Encoding and decoding allow us to encode signals over time, and decode transformations of those signals.\n",
      "\n",
      "In fact, we can decode arbitrary transformations of the input signal, not just the signal itself (as in the previous example).\n",
      "\n",
      "Let's decode the square of our white noise input."
     ]
    },
    {
     "cell_type": "code",
     "collapsed": false,
     "input": [
      "#This must be run immediately after the previous two blocks of code\n",
      "model.get(\"A\").connections_out[1].function = np.square"
     ],
     "language": "python",
     "metadata": {},
     "outputs": []
    },
    {
     "cell_type": "code",
     "collapsed": false,
     "input": [
      "sim = model.simulator()\n",
      "sim.run(1)\n",
      "\n",
      "plt.figure(figsize=(10,3.5))\n",
      "plt.subplot(1,2,1)\n",
      "plt.plot(sim.data(model.t), sim.data(\"Input signal\"), label=\"Input signal\")\n",
      "plt.plot(sim.data(model.t), sim.data(\"A\"), label=\"Decoded esimate\")\n",
      "plt.plot(sim.data(model.t), np.square(sim.data(\"Input signal\")), label=\"Input signal squared\")\n",
      "plt.legend(loc=\"best\", fontsize='medium')\n",
      "plt.xlabel(\"Time (s)\")\n",
      "plt.xlim(0, 1)\n",
      "\n",
      "ax = plt.subplot(1,2,2)\n",
      "rasterplot(sim.data(model.t), sim.data(\"A.spikes\"))\n",
      "plt.xlim(0, 1)\n",
      "plt.xlabel(\"Time (s)\")\n",
      "plt.ylabel(\"Neuron\")\n",
      "nengo.ipython.hide_input()"
     ],
     "language": "python",
     "metadata": {},
     "outputs": []
    },
    {
     "cell_type": "markdown",
     "metadata": {},
     "source": [
      "Notice that the spike trains are exactly the same. The only difference is how we're interpreting those spikes. We told Nengo to compute a new set of decoders that estimate the function $x^2$.\n",
      "\n",
      "In general, the transformation principle determines how we can decode spike trains to compute linear and nonlinear transformations of signals encoded in a population of neurons. We can then project those transformed signals into another population, and repeat the process.  Essentially, this provides a means of computing the neural connection weights to compute an arbitrary function between populations.\n",
      "\n",
      "Suppose we are representing a sine wave."
     ]
    },
    {
     "cell_type": "code",
     "collapsed": false,
     "input": [
      "from nengo.objects import Uniform\n",
      "\n",
      "model = nengo.Model(\"NEF summary\")\n",
      "model.make_node(\"Input signal\", output=lambda t: np.sin(np.pi*t))\n",
      "model.make_ensemble(\"A\", nengo.LIF(30), dimensions=1, \n",
      "                    max_rates=nengo.objects.Uniform(80, 100))\n",
      "model.connect(\"Input signal\", \"A\")\n",
      "model.probe(\"A.spikes\")\n",
      "model.probe(\"A\", filter=0.01)"
     ],
     "language": "python",
     "metadata": {},
     "outputs": []
    },
    {
     "cell_type": "code",
     "collapsed": false,
     "input": [
      "sim = model.simulator()\n",
      "sim.run(2)\n",
      "\n",
      "plt.figure(figsize=(10,3.5))\n",
      "plt.subplot(1,2,1)\n",
      "plt.plot(sim.data(model.t), sim.data(\"A\"))\n",
      "plt.title(\"A\")\n",
      "plt.xlabel(\"Time (s)\")\n",
      "plt.xlim(0, 2)\n",
      "\n",
      "ax = plt.subplot(1,2,2)\n",
      "rasterplot(sim.data(model.t), sim.data(\"A.spikes\"), ax)\n",
      "plt.xlim(0, 2)\n",
      "plt.title(\"A\")\n",
      "plt.xlabel(\"Time (s)\")\n",
      "plt.ylabel(\"Neuron\")\n",
      "nengo.ipython.hide_input()"
     ],
     "language": "python",
     "metadata": {},
     "outputs": []
    },
    {
     "cell_type": "markdown",
     "metadata": {},
     "source": [
      "Linear transformations of that signal involve solving for the usual decoders, and scaling those decoding weights. Let us flip this sine wave upside down as it is transmitted between two populations (i.e. population A and population -A)."
     ]
    },
    {
     "cell_type": "code",
     "collapsed": false,
     "input": [
      "model.make_ensemble(\"-A\", nengo.LIF(30), dimensions=1, \n",
      "                    max_rates=nengo.objects.Uniform(80, 100))\n",
      "model.connect(\"A\", \"-A\", function=np.negative)\n",
      "model.probe(\"-A.spikes\")\n",
      "model.probe(\"-A\", filter=0.01)"
     ],
     "language": "python",
     "metadata": {},
     "outputs": []
    },
    {
     "cell_type": "code",
     "collapsed": false,
     "input": [
      "sim = model.simulator()\n",
      "sim.run(2)\n",
      "\n",
      "plt.figure(figsize=(10,5))\n",
      "plt.subplot(2,2,1)\n",
      "plt.plot(sim.data(model.t), sim.data(\"A\"))\n",
      "plt.title(\"A\")\n",
      "plt.xticks(())\n",
      "plt.xlim(0, 2)\n",
      "\n",
      "plt.subplot(2,2,3)\n",
      "plt.plot(sim.data(model.t), sim.data(\"-A\"))\n",
      "plt.title(\"-A\")\n",
      "plt.xlabel(\"Time (s)\")\n",
      "plt.xlim(0, 2)\n",
      "\n",
      "ax = plt.subplot(2,2,2)\n",
      "rasterplot(sim.data(model.t), sim.data(\"A.spikes\"), ax)\n",
      "plt.xlim(0, 2)\n",
      "plt.title(\"A\")\n",
      "plt.xticks(())\n",
      "plt.ylabel(\"Neuron\")\n",
      "\n",
      "ax = plt.subplot(2,2,4)\n",
      "rasterplot(sim.data(model.t), sim.data(\"-A.spikes\"), ax)\n",
      "plt.xlim(0, 2)\n",
      "plt.title(\"-A\")\n",
      "plt.xlabel(\"Time (s)\")\n",
      "plt.ylabel(\"Neuron\")\n",
      "nengo.ipython.hide_input()"
     ],
     "language": "python",
     "metadata": {},
     "outputs": []
    },
    {
     "cell_type": "markdown",
     "metadata": {},
     "source": [
      "Nonlinear transformations involve solving for a new set of decoding weights. Let us add a third population connected to the second one and use it to compute $(-A)^2$."
     ]
    },
    {
     "cell_type": "code",
     "collapsed": false,
     "input": [
      "model.make_ensemble(\"-A^2\", nengo.LIF(30), dimensions=1,\n",
      "                    max_rates=nengo.objects.Uniform(80, 100))\n",
      "model.connect(\"-A\", \"-A^2\", function=np.square)\n",
      "model.probe(\"-A^2.spikes\")\n",
      "model.probe(\"-A^2\", filter=0.02)"
     ],
     "language": "python",
     "metadata": {},
     "outputs": []
    },
    {
     "cell_type": "code",
     "collapsed": false,
     "input": [
      "sim = model.simulator()\n",
      "sim.run(2)\n",
      "\n",
      "plt.figure(figsize=(10,6.5))\n",
      "plt.subplot(3,2,1)\n",
      "plt.plot(sim.data(model.t), sim.data(\"A\"))\n",
      "plt.axhline(0, color='k')\n",
      "plt.title(\"A\")\n",
      "plt.xticks(())\n",
      "plt.xlim(0, 2)\n",
      "\n",
      "plt.subplot(3,2,3)\n",
      "plt.plot(sim.data(model.t), sim.data(\"-A\"))\n",
      "plt.axhline(0, color='k')\n",
      "plt.title(\"-A\")\n",
      "plt.xticks(())\n",
      "plt.xlim(0, 2)\n",
      "\n",
      "plt.subplot(3,2,5)\n",
      "plt.plot(sim.data(model.t), sim.data(\"-A^2\"))\n",
      "plt.axhline(0, color='k')\n",
      "plt.title(\"(-A)^2\")\n",
      "plt.xlabel(\"Time (s)\")\n",
      "plt.xlim(0, 2)\n",
      "\n",
      "ax = plt.subplot(3,2,2)\n",
      "rasterplot(sim.data(model.t), sim.data(\"A.spikes\"), ax)\n",
      "plt.xlim(0, 2)\n",
      "plt.title(\"A\")\n",
      "plt.xticks(())\n",
      "plt.ylabel(\"Neuron\")\n",
      "\n",
      "ax = plt.subplot(3,2,4)\n",
      "rasterplot(sim.data(model.t), sim.data(\"-A.spikes\"), ax)\n",
      "plt.xlim(0, 2)\n",
      "plt.title(\"-A\")\n",
      "plt.xticks(())\n",
      "plt.ylabel(\"Neuron\")\n",
      "\n",
      "ax = plt.subplot(3,2,6)\n",
      "rasterplot(sim.data(model.t), sim.data(\"-A^2.spikes\"), ax)\n",
      "plt.xlim(0, 2)\n",
      "plt.title(\"(-A)^2\")\n",
      "plt.xlabel(\"Time (s)\")\n",
      "plt.ylabel(\"Neuron\")\n",
      "nengo.ipython.hide_input()"
     ],
     "language": "python",
     "metadata": {},
     "outputs": []
    },
    {
     "cell_type": "markdown",
     "metadata": {},
     "source": [
      "# Principle 3: Dynamics\n",
      "\n",
      "So far, we have been considering the values represented by ensembles as generic \"signals.\" However, if we think of them instead as state variables in a dynamical system, then we can apply the methods of control theory or dynamic systems theory to brain models.  Nengo automatically translates from standard dynamical systems descriptions to descriptions consistent with neural dynamics.\n",
      "\n",
      "In order to get interesting dynamics, we can connect populations recurrently (i.e., to themselves).\n",
      "\n",
      "Below is a simple harmonic oscillator implemented using this third principle. It needs is a bit of input to get it started."
     ]
    },
    {
     "cell_type": "code",
     "collapsed": false,
     "input": [
      "model = nengo.Model(\"NEF summary\")\n",
      "model.make_node('Input signal', \n",
      "                output=lambda t: [1,0] if t < 0.1 else [0,0])\n",
      "model.make_ensemble('Oscillator', nengo.LIF(200), dimensions=2)\n",
      "model.connect('Input signal','Oscillator')\n",
      "model.connect('Oscillator', 'Oscillator', \n",
      "              transform=[[1,1],[-1,1]], filter=0.1)\n",
      "model.probe('Oscillator', filter=0.02)"
     ],
     "language": "python",
     "metadata": {},
     "outputs": []
    },
    {
     "cell_type": "code",
     "collapsed": false,
     "input": [
      "sim = model.simulator()\n",
      "sim.run(3)\n",
      "\n",
      "plt.figure(figsize=(10,3.5))\n",
      "plt.subplot(1,2,1)\n",
      "plt.plot(sim.data(model.t), sim.data('Oscillator'))\n",
      "plt.ylim(-1.2, 1.2)\n",
      "plt.xlabel('Time (s)')\n",
      "\n",
      "plt.subplot(1,2,2)\n",
      "plt.plot(sim.data('Oscillator')[:,0], sim.data('Oscillator')[:,1])\n",
      "plt.grid()\n",
      "plt.axis([-1.2, 1.2, -1.2, 1.2])\n",
      "plt.xlabel('$x_1$')\n",
      "plt.ylabel('$x_2$')\n",
      "nengo.ipython.hide_input()"
     ],
     "language": "python",
     "metadata": {},
     "outputs": []
    }
   ],
   "metadata": {}
  }
 ]
}