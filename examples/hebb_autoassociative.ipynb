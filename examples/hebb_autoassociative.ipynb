{
 "metadata": {
  "name": "hebb_autoassociative"
 },
 "nbformat": 3,
 "nbformat_minor": 0,
 "worksheets": [
  {
   "cells": [
    {
     "cell_type": "code",
     "collapsed": false,
     "input": [
      "import nengo\n",
      "import numpy as np\n",
      "from nengo.nonlinearities import Hebb\n",
      "import types\n",
      "\n",
      "m = nengo.Model()\n",
      "\n",
      "n = 500\n",
      "d = 4\n",
      "inf = n\n",
      "selectivity = 0.05\n",
      "def my_input(t):\n",
      "    if t < 0.5:\n",
      "        return [0, 1.0, 0, -0.2]\n",
      "    if t < 1:\n",
      "        return [0.7, 0, -1.0, -0.2]\n",
      "    if t < 1.5:\n",
      "        return [1.0, 0, 0, -0.2]\n",
      "    if t < 2.0:\n",
      "        return [0, 0, 1.0, -0.2]\n",
      "    if t < 2.5:\n",
      "        return [0.9, 0, 0, -0.2]\n",
      "    if t < 3.0:\n",
      "        return [0, 0.7, 0, -0.2]\n",
      "    if t < 3.5:\n",
      "        return [0, 0, 0.5, -0.2]\n",
      "    if t < 4.0:\n",
      "        return [0, 0, 0, -0.2]\n",
      "\n",
      "inp = nengo.Node(output=my_input)\n",
      "\n",
      "encoders = [[int(i==j%d)*((-1,1)[j>=n/2]) for i in range(d)] for j in range(n)]\n",
      "intercepts = nengo.objects.Uniform(selectivity, 1.0)\n",
      "x = nengo.Ensemble(nengo.LIF(n), d, label=\"x\", intercepts=intercepts, encoders=encoders)\n",
      "\n",
      "a = nengo.Ensemble(nengo.LIF(n), d, label=\"a\", intercepts=intercepts, encoders=encoders)\n",
      "dt = 0.001\n",
      "def activities(self, eval_points=None):\n",
      "    assert self._scaled_encoders is not None\n",
      "    if eval_points is None:\n",
      "        eval_points = self.eval_points\n",
      "    # Determine which neurons in the x ensemble spike for this x\n",
      "    x_activity = x.activities(eval_points)\n",
      "    x_activity[np.where(x_activity > 0)] = inf\n",
      "    x_activity *= self.neurons.gain\n",
      "    return self.neurons.rates(x_activity)\n",
      "a.activities = types.MethodType(activities, a)\n",
      "\n",
      "nengo.Connection(inp, x)\n",
      "nengo.Connection(x.neurons, a.neurons,\n",
      "    transform=np.zeros((n, n)),\n",
      "    learning_rule=Hebb(pre_tau=0.01, post_tau=0.01, learning_rate=1e-2, label=\"hebb\"))\n",
      "nengo.Connection(x.neurons, a.neurons,\n",
      "    transform=(inf+inf)*np.eye(n) - np.ones((n, n)))  # inhibitory interneurons\n",
      "# forgetting a +1 bias?\n",
      "\n",
      "p_inp = nengo.Probe(inp, \"output\", filter=0.01)\n",
      "p_x = nengo.Probe(x, \"decoded_output\", filter=0.01)\n",
      "spikes_x = nengo.Probe(x, \"spikes\")\n",
      "p_a = nengo.Probe(a, \"decoded_output\", filter=0.03)\n",
      "spikes_a = nengo.Probe(a, \"spikes\")\n"
     ],
     "language": "python",
     "metadata": {},
     "outputs": [],
     "prompt_number": 5
    },
    {
     "cell_type": "code",
     "collapsed": false,
     "input": [
      "from nengo.matplotlib import rasterplot\n",
      "\n",
      "sim = nengo.Simulator(m)\n",
      "sim.run(2)\n",
      "\n",
      "figure()\n",
      "title('Input')\n",
      "plot(sim.data(p_inp))\n",
      "\n",
      "figure()\n",
      "title('Input Ensemble')\n",
      "plot(sim.data(p_x))\n",
      "\n",
      "figure()\n",
      "title('x Spikes')\n",
      "rasterplot(sim.trange(), sim.data(spikes_x))\n",
      "\n",
      "figure()\n",
      "title('Memory')\n",
      "plot(sim.data(p_a))\n",
      "\n",
      "figure()\n",
      "title('Memory Spikes')\n",
      "rasterplot(sim.trange(), sim.data(spikes_a))\n",
      "\n",
      "show()"
     ],
     "language": "python",
     "metadata": {},
     "outputs": [
      {
       "output_type": "stream",
       "stream": "stdout",
       "text": [
        "1\n",
        "1\n",
        "1\n",
        "1\n",
        "4\n",
        "5\n",
        "10\n",
        "15"
       ]
      },
      {
       "output_type": "stream",
       "stream": "stdout",
       "text": [
        "\n",
        "19\n",
        "23\n",
        "24\n",
        "28\n",
        "33\n",
        "34\n",
        "34"
       ]
      },
      {
       "output_type": "stream",
       "stream": "stdout",
       "text": [
        "\n",
        "35\n",
        "35\n",
        "35\n",
        "36\n",
        "36\n",
        "36\n",
        "36"
       ]
      },
      {
       "output_type": "stream",
       "stream": "stdout",
       "text": [
        "\n",
        "36\n",
        "36\n",
        "37\n",
        "38\n",
        "38\n",
        "38\n",
        "39"
       ]
      },
      {
       "output_type": "stream",
       "stream": "stdout",
       "text": [
        "\n",
        "39\n",
        "43\n",
        "47\n",
        "59\n",
        "68\n",
        "76"
       ]
      },
      {
       "output_type": "stream",
       "stream": "stdout",
       "text": [
        "\n",
        "83\n",
        "87\n",
        "99\n",
        "102\n",
        "104\n",
        "106"
       ]
      },
      {
       "output_type": "stream",
       "stream": "stdout",
       "text": [
        "\n",
        "106\n",
        "106\n",
        "108\n",
        "109\n",
        "109\n",
        "109\n",
        "109"
       ]
      },
      {
       "output_type": "stream",
       "stream": "stdout",
       "text": [
        "\n",
        "109\n",
        "110\n",
        "111\n",
        "111\n",
        "111\n",
        "111\n",
        "111"
       ]
      },
      {
       "output_type": "stream",
       "stream": "stdout",
       "text": [
        "\n",
        "111\n",
        "111\n",
        "111\n",
        "111\n",
        "112\n",
        "112\n",
        "112"
       ]
      },
      {
       "output_type": "stream",
       "stream": "stdout",
       "text": [
        "\n",
        "112\n",
        "115\n",
        "118\n",
        "125\n",
        "138\n",
        "147\n",
        "154"
       ]
      },
      {
       "output_type": "stream",
       "stream": "stdout",
       "text": [
        "\n",
        "161\n",
        "169\n",
        "176\n",
        "178\n",
        "179\n",
        "180\n",
        "181"
       ]
      },
      {
       "output_type": "stream",
       "stream": "stdout",
       "text": [
        "\n",
        "185\n",
        "193\n",
        "198\n",
        "201\n",
        "207\n",
        "211\n",
        "216"
       ]
      },
      {
       "output_type": "stream",
       "stream": "stdout",
       "text": [
        "\n",
        "218\n",
        "219\n",
        "223\n",
        "229\n",
        "232\n",
        "238"
       ]
      },
      {
       "output_type": "stream",
       "stream": "stdout",
       "text": [
        "\n",
        "242\n",
        "244\n",
        "246\n",
        "252\n",
        "254\n",
        "256"
       ]
      },
      {
       "output_type": "stream",
       "stream": "stdout",
       "text": [
        "\n",
        "256\n",
        "257\n",
        "257\n",
        "258\n",
        "258\n",
        "258\n",
        "258"
       ]
      },
      {
       "output_type": "stream",
       "stream": "stdout",
       "text": [
        "\n",
        "258\n",
        "259\n",
        "260\n",
        "260\n",
        "260\n",
        "260\n",
        "260"
       ]
      },
      {
       "output_type": "stream",
       "stream": "stdout",
       "text": [
        "\n",
        "260\n",
        "260\n",
        "260\n",
        "260\n",
        "260\n",
        "261\n",
        "262"
       ]
      },
      {
       "output_type": "stream",
       "stream": "stdout",
       "text": [
        "\n",
        "262\n",
        "262\n",
        "264\n",
        "266\n",
        "273\n",
        "279\n",
        "283"
       ]
      },
      {
       "output_type": "stream",
       "stream": "stdout",
       "text": [
        "\n",
        "285\n",
        "291\n",
        "293\n",
        "294\n",
        "295\n",
        "296"
       ]
      },
      {
       "output_type": "stream",
       "stream": "stdout",
       "text": [
        "\n",
        "297\n",
        "299\n",
        "299\n",
        "299\n",
        "299\n",
        "299\n",
        "300"
       ]
      },
      {
       "output_type": "stream",
       "stream": "stdout",
       "text": [
        "\n",
        "300\n",
        "301\n",
        "301\n",
        "301\n",
        "301"
       ]
      },
      {
       "output_type": "stream",
       "stream": "stdout",
       "text": [
        "\n",
        "302\n",
        "302\n",
        "302\n",
        "302\n",
        "302"
       ]
      },
      {
       "output_type": "stream",
       "stream": "stdout",
       "text": [
        "\n",
        "302\n",
        "302\n",
        "302\n",
        "302\n",
        "302"
       ]
      },
      {
       "output_type": "stream",
       "stream": "stdout",
       "text": [
        "\n",
        "302\n",
        "302\n",
        "302\n",
        "303\n",
        "304"
       ]
      },
      {
       "output_type": "stream",
       "stream": "stdout",
       "text": [
        "\n",
        "306\n",
        "318\n",
        "323\n",
        "330\n",
        "344"
       ]
      },
      {
       "output_type": "stream",
       "stream": "stdout",
       "text": [
        "\n",
        "351\n",
        "365\n",
        "376\n",
        "382\n",
        "393"
       ]
      },
      {
       "output_type": "stream",
       "stream": "stdout",
       "text": [
        "\n",
        "400\n",
        "406\n",
        "407\n",
        "408\n",
        "410"
       ]
      },
      {
       "output_type": "stream",
       "stream": "stdout",
       "text": [
        "\n",
        "412\n",
        "414\n",
        "415\n",
        "416\n",
        "416"
       ]
      },
      {
       "output_type": "stream",
       "stream": "stdout",
       "text": [
        "\n",
        "417\n",
        "417\n",
        "418\n",
        "418\n",
        "418"
       ]
      },
      {
       "output_type": "stream",
       "stream": "stdout",
       "text": [
        "\n",
        "418\n",
        "418\n",
        "419\n",
        "419\n",
        "420"
       ]
      },
      {
       "output_type": "stream",
       "stream": "stdout",
       "text": [
        "\n",
        "420\n",
        "422\n",
        "423\n",
        "434\n",
        "436"
       ]
      },
      {
       "output_type": "stream",
       "stream": "stdout",
       "text": [
        "\n",
        "440\n",
        "443\n",
        "449\n",
        "451\n",
        "452"
       ]
      },
      {
       "output_type": "stream",
       "stream": "stdout",
       "text": [
        "\n",
        "453\n",
        "453\n",
        "455\n",
        "456\n",
        "458"
       ]
      },
      {
       "output_type": "stream",
       "stream": "stdout",
       "text": [
        "\n",
        "460\n",
        "471\n",
        "476\n",
        "485\n",
        "490"
       ]
      },
      {
       "output_type": "stream",
       "stream": "stdout",
       "text": [
        "\n",
        "491\n",
        "495\n",
        "502\n",
        "507\n",
        "514"
       ]
      },
      {
       "output_type": "stream",
       "stream": "stdout",
       "text": [
        "\n",
        "524\n",
        "537\n",
        "543\n",
        "551\n",
        "557"
       ]
      },
      {
       "output_type": "stream",
       "stream": "stdout",
       "text": [
        "\n",
        "562\n",
        "569\n",
        "580\n",
        "592\n",
        "597"
       ]
      },
      {
       "output_type": "stream",
       "stream": "stdout",
       "text": [
        "\n",
        "599\n",
        "601\n",
        "601\n",
        "602\n",
        "603"
       ]
      },
      {
       "output_type": "stream",
       "stream": "stdout",
       "text": [
        "\n",
        "604\n",
        "606\n",
        "607\n",
        "608\n",
        "608"
       ]
      },
      {
       "output_type": "stream",
       "stream": "stdout",
       "text": [
        "\n",
        "608\n",
        "608\n",
        "608\n",
        "608\n",
        "608"
       ]
      },
      {
       "output_type": "stream",
       "stream": "stdout",
       "text": [
        "\n",
        "608\n",
        "608\n",
        "609\n",
        "609\n",
        "611"
       ]
      },
      {
       "output_type": "stream",
       "stream": "stdout",
       "text": [
        "\n",
        "618\n",
        "624\n",
        "635\n",
        "656\n",
        "670"
       ]
      },
      {
       "output_type": "stream",
       "stream": "stdout",
       "text": [
        "\n",
        "674\n",
        "676\n",
        "676\n",
        "676\n",
        "677"
       ]
      },
      {
       "output_type": "stream",
       "stream": "stdout",
       "text": [
        "\n",
        "679\n",
        "681\n",
        "682\n",
        "683\n",
        "684"
       ]
      },
      {
       "output_type": "stream",
       "stream": "stdout",
       "text": [
        "\n",
        "685\n",
        "685\n",
        "685\n",
        "685\n",
        "685"
       ]
      },
      {
       "output_type": "stream",
       "stream": "stdout",
       "text": [
        "\n",
        "685\n",
        "686\n",
        "686\n",
        "687\n",
        "687"
       ]
      },
      {
       "output_type": "stream",
       "stream": "stdout",
       "text": [
        "\n",
        "687\n",
        "687\n",
        "690\n",
        "700\n",
        "707"
       ]
      },
      {
       "output_type": "stream",
       "stream": "stdout",
       "text": [
        "\n",
        "715\n",
        "719\n",
        "720\n",
        "722\n",
        "723"
       ]
      },
      {
       "output_type": "stream",
       "stream": "stdout",
       "text": [
        "\n",
        "723\n",
        "725\n",
        "731\n",
        "737\n",
        "743"
       ]
      },
      {
       "output_type": "stream",
       "stream": "stdout",
       "text": [
        "\n",
        "748\n",
        "752\n",
        "755\n",
        "758\n",
        "759"
       ]
      },
      {
       "output_type": "stream",
       "stream": "stdout",
       "text": [
        "\n",
        "760\n",
        "761\n",
        "763\n",
        "763\n",
        "764"
       ]
      },
      {
       "output_type": "stream",
       "stream": "stdout",
       "text": [
        "\n",
        "764\n",
        "764\n",
        "764\n",
        "765\n",
        "765"
       ]
      },
      {
       "output_type": "stream",
       "stream": "stdout",
       "text": [
        "\n",
        "765\n",
        "766\n",
        "766\n",
        "768\n",
        "768"
       ]
      },
      {
       "output_type": "stream",
       "stream": "stdout",
       "text": [
        "\n",
        "769\n",
        "776\n",
        "785\n",
        "793\n",
        "808"
       ]
      },
      {
       "output_type": "stream",
       "stream": "stdout",
       "text": [
        "\n",
        "817\n",
        "830\n",
        "847\n",
        "859\n",
        "864"
       ]
      },
      {
       "output_type": "stream",
       "stream": "stdout",
       "text": [
        "\n",
        "871\n",
        "874\n",
        "877\n",
        "879\n",
        "881"
       ]
      },
      {
       "output_type": "stream",
       "stream": "stdout",
       "text": [
        "\n",
        "883\n",
        "883\n",
        "886\n",
        "889\n",
        "889"
       ]
      },
      {
       "output_type": "stream",
       "stream": "stdout",
       "text": [
        "\n",
        "889\n",
        "890\n",
        "890\n",
        "891\n",
        "891"
       ]
      },
      {
       "output_type": "stream",
       "stream": "stdout",
       "text": [
        "\n",
        "894\n",
        "900\n",
        "906\n",
        "910\n",
        "916"
       ]
      },
      {
       "output_type": "stream",
       "stream": "stdout",
       "text": [
        "\n",
        "922\n",
        "924\n",
        "925\n",
        "925\n",
        "925"
       ]
      },
      {
       "output_type": "stream",
       "stream": "stdout",
       "text": [
        "\n",
        "927\n",
        "928\n",
        "929\n",
        "930\n",
        "930"
       ]
      },
      {
       "output_type": "stream",
       "stream": "stdout",
       "text": [
        "\n",
        "930\n",
        "931\n",
        "931\n",
        "931\n",
        "931"
       ]
      },
      {
       "output_type": "stream",
       "stream": "stdout",
       "text": [
        "\n",
        "931\n",
        "933\n",
        "942\n",
        "952\n",
        "962"
       ]
      },
      {
       "output_type": "stream",
       "stream": "stdout",
       "text": [
        "\n",
        "965\n",
        "969\n",
        "970\n",
        "972\n",
        "972"
       ]
      },
      {
       "output_type": "stream",
       "stream": "stdout",
       "text": [
        "\n",
        "973\n",
        "974\n",
        "977\n",
        "985\n",
        "992"
       ]
      },
      {
       "output_type": "stream",
       "stream": "stdout",
       "text": [
        "\n",
        "995\n",
        "999\n",
        "1005\n",
        "1006\n",
        "1008"
       ]
      },
      {
       "output_type": "stream",
       "stream": "stdout",
       "text": [
        "\n",
        "1009\n",
        "1009\n",
        "1009\n",
        "1011\n",
        "1011"
       ]
      },
      {
       "output_type": "stream",
       "stream": "stdout",
       "text": [
        "\n",
        "1013\n",
        "1013\n",
        "1013\n",
        "1014\n",
        "1017"
       ]
      },
      {
       "output_type": "stream",
       "stream": "stdout",
       "text": [
        "\n",
        "1026\n",
        "1034\n",
        "1043\n",
        "1046\n",
        "1049"
       ]
      },
      {
       "output_type": "stream",
       "stream": "stdout",
       "text": [
        "\n",
        "1050\n",
        "1050\n",
        "1051\n",
        "1051\n",
        "1053"
       ]
      },
      {
       "output_type": "stream",
       "stream": "stdout",
       "text": [
        "\n",
        "1054\n",
        "1056\n",
        "1059\n",
        "1059\n",
        "1060"
       ]
      },
      {
       "output_type": "stream",
       "stream": "stdout",
       "text": [
        "\n",
        "1061\n",
        "1061\n",
        "1061\n",
        "1061\n",
        "1061"
       ]
      },
      {
       "output_type": "stream",
       "stream": "stdout",
       "text": [
        "\n",
        "1061\n",
        "1061\n",
        "1062\n",
        "1062\n",
        "1062"
       ]
      },
      {
       "output_type": "stream",
       "stream": "stdout",
       "text": [
        "\n",
        "1063\n",
        "1064\n",
        "1065\n",
        "1065\n",
        "1066"
       ]
      },
      {
       "output_type": "stream",
       "stream": "stdout",
       "text": [
        "\n",
        "1067\n",
        "1067\n",
        "1067\n",
        "1067\n",
        "1067"
       ]
      },
      {
       "output_type": "stream",
       "stream": "stdout",
       "text": [
        "\n",
        "1067\n",
        "1068\n",
        "1069\n",
        "1069\n",
        "1069"
       ]
      },
      {
       "output_type": "stream",
       "stream": "stdout",
       "text": [
        "\n",
        "1071\n",
        "1071\n",
        "1071\n",
        "1071\n",
        "1071"
       ]
      },
      {
       "output_type": "stream",
       "stream": "stdout",
       "text": [
        "\n",
        "1072\n",
        "1073\n",
        "1073\n",
        "1074\n",
        "1074"
       ]
      },
      {
       "output_type": "stream",
       "stream": "stdout",
       "text": [
        "\n",
        "1075\n",
        "1075\n",
        "1076\n",
        "1076\n",
        "1076"
       ]
      },
      {
       "output_type": "stream",
       "stream": "stdout",
       "text": [
        "\n",
        "1076\n",
        "1076\n",
        "1077\n",
        "1077\n",
        "1077"
       ]
      },
      {
       "output_type": "stream",
       "stream": "stdout",
       "text": [
        "\n",
        "1080\n",
        "1080\n",
        "1080\n",
        "1080\n",
        "1080"
       ]
      },
      {
       "output_type": "stream",
       "stream": "stdout",
       "text": [
        "\n",
        "1080\n",
        "1080\n",
        "1080\n",
        "1080\n",
        "1080"
       ]
      },
      {
       "output_type": "stream",
       "stream": "stdout",
       "text": [
        "\n",
        "1081\n",
        "1081\n",
        "1081\n",
        "1081\n",
        "1081"
       ]
      },
      {
       "output_type": "stream",
       "stream": "stdout",
       "text": [
        "\n",
        "1081\n",
        "1081\n",
        "1081\n",
        "1081\n",
        "1082"
       ]
      },
      {
       "output_type": "stream",
       "stream": "stdout",
       "text": [
        "\n",
        "1082\n",
        "1082\n",
        "1082\n",
        "1082\n",
        "1082"
       ]
      },
      {
       "output_type": "stream",
       "stream": "stdout",
       "text": [
        "\n",
        "1082\n",
        "1082\n",
        "1082\n",
        "1082\n",
        "1082"
       ]
      },
      {
       "output_type": "stream",
       "stream": "stdout",
       "text": [
        "\n",
        "1082\n",
        "1082\n",
        "1082\n",
        "1082\n",
        "1082"
       ]
      },
      {
       "output_type": "stream",
       "stream": "stdout",
       "text": [
        "\n",
        "1082\n",
        "1082\n",
        "1082\n",
        "1082\n",
        "1082"
       ]
      },
      {
       "output_type": "stream",
       "stream": "stdout",
       "text": [
        "\n",
        "1082\n",
        "1082\n",
        "1082\n",
        "1082\n",
        "1082"
       ]
      },
      {
       "output_type": "stream",
       "stream": "stdout",
       "text": [
        "\n",
        "1082\n",
        "1082\n",
        "1082\n",
        "1082\n",
        "1082"
       ]
      },
      {
       "output_type": "stream",
       "stream": "stdout",
       "text": [
        "\n",
        "1082\n",
        "1082\n",
        "1082\n",
        "1082\n",
        "1082"
       ]
      },
      {
       "output_type": "stream",
       "stream": "stdout",
       "text": [
        "\n",
        "1082\n",
        "1082\n",
        "1082\n",
        "1082\n",
        "1082"
       ]
      },
      {
       "output_type": "stream",
       "stream": "stdout",
       "text": [
        "\n",
        "1082\n",
        "1082\n",
        "1082\n",
        "1082\n",
        "1082"
       ]
      },
      {
       "output_type": "stream",
       "stream": "stdout",
       "text": [
        "\n",
        "1082\n",
        "1082\n",
        "1082\n",
        "1082\n",
        "1082"
       ]
      },
      {
       "output_type": "stream",
       "stream": "stdout",
       "text": [
        "\n",
        "1082\n",
        "1082\n",
        "1082\n",
        "1082\n",
        "1082"
       ]
      },
      {
       "output_type": "stream",
       "stream": "stdout",
       "text": [
        "\n",
        "1082\n",
        "1082\n",
        "1082\n",
        "1082\n",
        "1082"
       ]
      },
      {
       "output_type": "stream",
       "stream": "stdout",
       "text": [
        "\n",
        "1082\n",
        "1082\n",
        "1082\n",
        "1082\n",
        "1082"
       ]
      },
      {
       "output_type": "stream",
       "stream": "stdout",
       "text": [
        "\n",
        "1082\n",
        "1082\n",
        "1082\n",
        "1082\n",
        "1082"
       ]
      },
      {
       "output_type": "stream",
       "stream": "stdout",
       "text": [
        "\n",
        "1082\n",
        "1082\n",
        "1082\n",
        "1082\n",
        "1082"
       ]
      },
      {
       "output_type": "stream",
       "stream": "stdout",
       "text": [
        "\n",
        "1082\n",
        "1082\n",
        "1082\n",
        "1082\n",
        "1082"
       ]
      },
      {
       "output_type": "stream",
       "stream": "stdout",
       "text": [
        "\n",
        "1082\n",
        "1082\n",
        "1082\n",
        "1082\n",
        "1082"
       ]
      },
      {
       "output_type": "stream",
       "stream": "stdout",
       "text": [
        "\n",
        "1082\n",
        "1082\n",
        "1082\n",
        "1082\n",
        "1082"
       ]
      },
      {
       "output_type": "stream",
       "stream": "stdout",
       "text": [
        "\n",
        "1082\n",
        "1082\n",
        "1082\n",
        "1082\n",
        "1082"
       ]
      },
      {
       "output_type": "stream",
       "stream": "stdout",
       "text": [
        "\n",
        "1082\n",
        "1082\n",
        "1082\n",
        "1082\n",
        "1082"
       ]
      },
      {
       "output_type": "stream",
       "stream": "stdout",
       "text": [
        "\n",
        "1082\n",
        "1082\n",
        "1082\n",
        "1082\n",
        "1082"
       ]
      },
      {
       "output_type": "stream",
       "stream": "stdout",
       "text": [
        "\n",
        "1082\n",
        "1082\n",
        "1082\n",
        "1082\n",
        "1082"
       ]
      },
      {
       "output_type": "stream",
       "stream": "stdout",
       "text": [
        "\n",
        "1082\n",
        "1082\n",
        "1082\n",
        "1082\n",
        "1082"
       ]
      },
      {
       "output_type": "stream",
       "stream": "stdout",
       "text": [
        "\n",
        "1082\n",
        "1082\n",
        "1082\n",
        "1082\n",
        "1082"
       ]
      },
      {
       "output_type": "stream",
       "stream": "stdout",
       "text": [
        "\n",
        "1082\n",
        "1082\n",
        "1082\n",
        "1082\n",
        "1082"
       ]
      },
      {
       "output_type": "stream",
       "stream": "stdout",
       "text": [
        "\n",
        "1082\n",
        "1082\n",
        "1082\n",
        "1082\n",
        "1082"
       ]
      },
      {
       "output_type": "stream",
       "stream": "stdout",
       "text": [
        "\n",
        "1082\n",
        "1082\n",
        "1082\n",
        "1082"
       ]
      },
      {
       "output_type": "stream",
       "stream": "stdout",
       "text": [
        "\n",
        "1082\n",
        "1082\n",
        "1082\n",
        "1082"
       ]
      },
      {
       "output_type": "stream",
       "stream": "stdout",
       "text": [
        "\n",
        "1082\n",
        "1082\n",
        "1082\n",
        "1082\n",
        "1082"
       ]
      },
      {
       "output_type": "stream",
       "stream": "stdout",
       "text": [
        "\n",
        "1082\n",
        "1082\n",
        "1082\n",
        "1082"
       ]
      },
      {
       "output_type": "stream",
       "stream": "stdout",
       "text": [
        "\n",
        "1082\n",
        "1082\n",
        "1082\n",
        "1082\n",
        "1082"
       ]
      },
      {
       "output_type": "stream",
       "stream": "stdout",
       "text": [
        "\n",
        "1082\n",
        "1082\n",
        "1082\n",
        "1082\n",
        "1082"
       ]
      },
      {
       "output_type": "stream",
       "stream": "stdout",
       "text": [
        "\n",
        "1082\n",
        "1082\n",
        "1082\n",
        "1082\n",
        "1082"
       ]
      },
      {
       "output_type": "stream",
       "stream": "stdout",
       "text": [
        "\n",
        "1082\n",
        "1082\n",
        "1082\n",
        "1082\n",
        "1082"
       ]
      },
      {
       "output_type": "stream",
       "stream": "stdout",
       "text": [
        "\n",
        "1082\n",
        "1082\n",
        "1082\n",
        "1082\n",
        "1082"
       ]
      },
      {
       "output_type": "stream",
       "stream": "stdout",
       "text": [
        "\n",
        "1082\n",
        "1082\n",
        "1082\n",
        "1082\n",
        "1082"
       ]
      },
      {
       "output_type": "stream",
       "stream": "stdout",
       "text": [
        "\n",
        "1082\n",
        "1082\n",
        "1082\n",
        "1082\n",
        "1082"
       ]
      },
      {
       "output_type": "stream",
       "stream": "stdout",
       "text": [
        "\n",
        "1082\n",
        "1082\n",
        "1082\n",
        "1082\n",
        "1082"
       ]
      },
      {
       "output_type": "stream",
       "stream": "stdout",
       "text": [
        "\n",
        "1082\n",
        "1082\n",
        "1082\n",
        "1082\n",
        "1082"
       ]
      },
      {
       "output_type": "stream",
       "stream": "stdout",
       "text": [
        "\n",
        "1082\n",
        "1082\n",
        "1082\n",
        "1082\n",
        "1082"
       ]
      },
      {
       "output_type": "stream",
       "stream": "stdout",
       "text": [
        "\n",
        "1082\n",
        "1082\n",
        "1082\n",
        "1082\n",
        "1082"
       ]
      },
      {
       "output_type": "stream",
       "stream": "stdout",
       "text": [
        "\n",
        "1082\n",
        "1082\n",
        "1082\n",
        "1082\n",
        "1082"
       ]
      },
      {
       "output_type": "stream",
       "stream": "stdout",
       "text": [
        "\n",
        "1082\n",
        "1082\n",
        "1082\n",
        "1082\n",
        "1082"
       ]
      },
      {
       "output_type": "stream",
       "stream": "stdout",
       "text": [
        "\n",
        "1082\n",
        "1082\n",
        "1082\n",
        "1082\n",
        "1082"
       ]
      },
      {
       "output_type": "stream",
       "stream": "stdout",
       "text": [
        "\n",
        "1082\n",
        "1082\n",
        "1082\n",
        "1082\n",
        "1082"
       ]
      },
      {
       "output_type": "stream",
       "stream": "stdout",
       "text": [
        "\n",
        "1082\n",
        "1082\n",
        "1082\n",
        "1082\n",
        "1082"
       ]
      },
      {
       "output_type": "stream",
       "stream": "stdout",
       "text": [
        "\n",
        "1082\n",
        "1082\n",
        "1082\n",
        "1082\n",
        "1082"
       ]
      },
      {
       "output_type": "stream",
       "stream": "stdout",
       "text": [
        "\n",
        "1082\n",
        "1082\n",
        "1082\n",
        "1082\n",
        "1082"
       ]
      },
      {
       "output_type": "stream",
       "stream": "stdout",
       "text": [
        "\n",
        "1082\n",
        "1082\n",
        "1082\n",
        "1082\n",
        "1082"
       ]
      },
      {
       "output_type": "stream",
       "stream": "stdout",
       "text": [
        "\n",
        "1082\n",
        "1082\n",
        "1082\n",
        "1082\n",
        "1082"
       ]
      },
      {
       "output_type": "stream",
       "stream": "stdout",
       "text": [
        "\n",
        "1082\n",
        "1082\n",
        "1082\n",
        "1082\n",
        "1082"
       ]
      },
      {
       "output_type": "stream",
       "stream": "stdout",
       "text": [
        "\n",
        "1082\n",
        "1082\n",
        "1082\n",
        "1082\n",
        "1082"
       ]
      },
      {
       "output_type": "stream",
       "stream": "stdout",
       "text": [
        "\n",
        "1082\n",
        "1082\n",
        "1082\n",
        "1082"
       ]
      },
      {
       "output_type": "stream",
       "stream": "stdout",
       "text": [
        "\n",
        "1082\n",
        "1082\n",
        "1082\n",
        "1082"
       ]
      },
      {
       "output_type": "stream",
       "stream": "stdout",
       "text": [
        "\n",
        "1082\n",
        "1082\n",
        "1082\n",
        "1082"
       ]
      },
      {
       "output_type": "stream",
       "stream": "stdout",
       "text": [
        "\n",
        "1082\n",
        "1082\n",
        "1082\n",
        "1082\n",
        "1082"
       ]
      },
      {
       "output_type": "stream",
       "stream": "stdout",
       "text": [
        "\n",
        "1082\n",
        "1082\n",
        "1082\n",
        "1082\n",
        "1082"
       ]
      },
      {
       "output_type": "stream",
       "stream": "stdout",
       "text": [
        "\n",
        "1082\n",
        "1082\n",
        "1082\n",
        "1082\n",
        "1082"
       ]
      },
      {
       "output_type": "stream",
       "stream": "stdout",
       "text": [
        "\n",
        "1082\n",
        "1082\n",
        "1082\n",
        "1082\n",
        "1082"
       ]
      },
      {
       "output_type": "stream",
       "stream": "stdout",
       "text": [
        "\n",
        "1082\n",
        "1082\n",
        "1082\n",
        "1082\n",
        "1082"
       ]
      },
      {
       "output_type": "stream",
       "stream": "stdout",
       "text": [
        "\n",
        "1082\n",
        "1082\n",
        "1082\n",
        "1082\n",
        "1082"
       ]
      },
      {
       "output_type": "stream",
       "stream": "stdout",
       "text": [
        "\n",
        "1082\n",
        "1082\n",
        "1082\n",
        "1082\n",
        "1082"
       ]
      },
      {
       "output_type": "stream",
       "stream": "stdout",
       "text": [
        "\n",
        "1082\n",
        "1082\n",
        "1082\n",
        "1082\n",
        "1082"
       ]
      },
      {
       "output_type": "stream",
       "stream": "stdout",
       "text": [
        "\n",
        "1082\n",
        "1082\n",
        "1082\n",
        "1082\n",
        "1082"
       ]
      },
      {
       "output_type": "stream",
       "stream": "stdout",
       "text": [
        "\n",
        "1082\n",
        "1082\n",
        "1082\n",
        "1082\n",
        "1082"
       ]
      },
      {
       "output_type": "stream",
       "stream": "stdout",
       "text": [
        "\n",
        "1082\n",
        "1082\n",
        "1082\n",
        "1082\n",
        "1082"
       ]
      },
      {
       "output_type": "stream",
       "stream": "stdout",
       "text": [
        "\n",
        "1082\n",
        "1082\n",
        "1082\n",
        "1082\n",
        "1082"
       ]
      },
      {
       "output_type": "stream",
       "stream": "stdout",
       "text": [
        "\n",
        "1082\n",
        "1082\n",
        "1082\n",
        "1082\n",
        "1082"
       ]
      },
      {
       "output_type": "stream",
       "stream": "stdout",
       "text": [
        "\n",
        "1082\n",
        "1082\n",
        "1082\n",
        "1082\n",
        "1082"
       ]
      },
      {
       "output_type": "stream",
       "stream": "stdout",
       "text": [
        "\n",
        "1082\n",
        "1082\n",
        "1082\n",
        "1082\n",
        "1082"
       ]
      },
      {
       "output_type": "stream",
       "stream": "stdout",
       "text": [
        "\n",
        "1082\n",
        "1082\n",
        "1082\n",
        "1082\n",
        "1082"
       ]
      },
      {
       "output_type": "stream",
       "stream": "stdout",
       "text": [
        "\n",
        "1082\n",
        "1082\n",
        "1082\n",
        "1082\n",
        "1082"
       ]
      },
      {
       "output_type": "stream",
       "stream": "stdout",
       "text": [
        "\n",
        "1082\n",
        "1082\n",
        "1082\n",
        "1082\n",
        "1082"
       ]
      },
      {
       "output_type": "stream",
       "stream": "stdout",
       "text": [
        "\n",
        "1082\n",
        "1083\n",
        "1083\n",
        "1083\n",
        "1083"
       ]
      },
      {
       "output_type": "stream",
       "stream": "stdout",
       "text": [
        "\n",
        "1083\n",
        "1083\n",
        "1083\n",
        "1083\n",
        "1083"
       ]
      },
      {
       "output_type": "stream",
       "stream": "stdout",
       "text": [
        "\n",
        "1083\n",
        "1083\n",
        "1083\n",
        "1083\n",
        "1083"
       ]
      },
      {
       "output_type": "stream",
       "stream": "stdout",
       "text": [
        "\n",
        "1083\n",
        "1083\n",
        "1083\n",
        "1083\n",
        "1083"
       ]
      },
      {
       "output_type": "stream",
       "stream": "stdout",
       "text": [
        "\n",
        "1083\n",
        "1083\n",
        "1083\n",
        "1083\n",
        "1083"
       ]
      },
      {
       "output_type": "stream",
       "stream": "stdout",
       "text": [
        "\n",
        "1083\n",
        "1083\n",
        "1083\n",
        "1083\n",
        "1083"
       ]
      },
      {
       "output_type": "stream",
       "stream": "stdout",
       "text": [
        "\n",
        "1084\n",
        "1084\n",
        "1085\n",
        "1085\n",
        "1085"
       ]
      },
      {
       "output_type": "stream",
       "stream": "stdout",
       "text": [
        "\n",
        "1085\n",
        "1085\n",
        "1085\n",
        "1085\n",
        "1085"
       ]
      },
      {
       "output_type": "stream",
       "stream": "stdout",
       "text": [
        "\n",
        "1085\n",
        "1085\n",
        "1085\n",
        "1085\n",
        "1085"
       ]
      },
      {
       "output_type": "stream",
       "stream": "stdout",
       "text": [
        "\n",
        "1085\n",
        "1085\n",
        "1085\n",
        "1085\n",
        "1085"
       ]
      },
      {
       "output_type": "stream",
       "stream": "stdout",
       "text": [
        "\n",
        "1085\n",
        "1085\n",
        "1085\n",
        "1085\n",
        "1085"
       ]
      },
      {
       "output_type": "stream",
       "stream": "stdout",
       "text": [
        "\n",
        "1085\n",
        "1085\n",
        "1085\n",
        "1085\n",
        "1085"
       ]
      },
      {
       "output_type": "stream",
       "stream": "stdout",
       "text": [
        "\n",
        "1085\n",
        "1085\n",
        "1085\n",
        "1085\n",
        "1085"
       ]
      },
      {
       "output_type": "stream",
       "stream": "stdout",
       "text": [
        "\n",
        "1085\n",
        "1085\n",
        "1085\n",
        "1085\n",
        "1085"
       ]
      },
      {
       "output_type": "stream",
       "stream": "stdout",
       "text": [
        "\n",
        "1085\n",
        "1085\n",
        "1085\n",
        "1085\n",
        "1085"
       ]
      },
      {
       "output_type": "stream",
       "stream": "stdout",
       "text": [
        "\n",
        "1085\n",
        "1085\n",
        "1085\n",
        "1085\n",
        "1085"
       ]
      },
      {
       "output_type": "stream",
       "stream": "stdout",
       "text": [
        "\n",
        "1085\n",
        "1085\n",
        "1085\n",
        "1085\n",
        "1085"
       ]
      },
      {
       "output_type": "stream",
       "stream": "stdout",
       "text": [
        "\n",
        "1085\n",
        "1085\n",
        "1085\n",
        "1085\n",
        "1085"
       ]
      },
      {
       "output_type": "stream",
       "stream": "stdout",
       "text": [
        "\n",
        "1085\n",
        "1085\n",
        "1085\n",
        "1085\n",
        "1085"
       ]
      },
      {
       "output_type": "stream",
       "stream": "stdout",
       "text": [
        "\n",
        "1085\n",
        "1085\n",
        "1085\n",
        "1085\n",
        "1085"
       ]
      },
      {
       "output_type": "stream",
       "stream": "stdout",
       "text": [
        "\n",
        "1085\n",
        "1085\n",
        "1085\n",
        "1085"
       ]
      },
      {
       "output_type": "stream",
       "stream": "stdout",
       "text": [
        "\n",
        "1085\n",
        "1085\n",
        "1085\n",
        "1085"
       ]
      },
      {
       "output_type": "stream",
       "stream": "stdout",
       "text": [
        "\n",
        "1085\n",
        "1085\n",
        "1085\n",
        "1085\n"
       ]
      },
      {
       "output_type": "display_data",
       "png": "[encoded data removed]"
      },
      {
       "output_type": "display_data",
       "png": "[encoded data removed]"
      },
      {
       "output_type": "display_data",
       "png": "[encoded data removed]"
      },
      {
       "output_type": "display_data",
       "png": "[encoded data removed]"
      },
      {
       "output_type": "display_data",
       "png": "[encoded data removed]"
      }
     ],
     "prompt_number": 6
    },
    {
     "cell_type": "code",
     "collapsed": false,
     "input": [],
     "language": "python",
     "metadata": {},
     "outputs": [],
     "prompt_number": 2
    }
   ],
   "metadata": {}
  }
 ]
}