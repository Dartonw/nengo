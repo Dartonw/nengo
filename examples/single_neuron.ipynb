{
 "metadata": {
  "name": ""
 },
 "nbformat": 3,
 "nbformat_minor": 0,
 "worksheets": [
  {
   "cells": [
    {
     "cell_type": "markdown",
     "metadata": {},
     "source": [
      "# Nengo Example: A Single Neuron\n",
      "This demo shows you how to construct and manipulate a single leaky integrate-and-fire (LIF) neuron. The LIF neuron is a simple, standard neuron model, and here it resides inside a neural \u2018population\u2019, even though there is only one neuron."
     ]
    },
    {
     "cell_type": "markdown",
     "metadata": {},
     "source": [
      "##Step 1: Create the Neuron"
     ]
    },
    {
     "cell_type": "code",
     "collapsed": false,
     "input": [
      "import nengo\n",
      "from nengo.objects import Uniform\n",
      "model = nengo.Model('A Single Neuron')\n",
      "\n",
      "model.make_ensemble('Neuron', \n",
      "                    nengo.LIF(1), \n",
      "                    dimensions=1, # Represent a scalar\n",
      "                    intercepts=Uniform(-.5, -.5), # Set intercept to 0.5\n",
      "                    max_rates=Uniform(100,100), # Set the maximum firing rate of the neuron to 100hz\n",
      "                    encoders=[[1]]) # Sets the neurons firing rate to increase for positive input"
     ],
     "language": "python",
     "metadata": {},
     "outputs": []
    },
    {
     "cell_type": "markdown",
     "metadata": {},
     "source": [
      "## Step 2: Provide Input to the Model\n",
      "Create an input node generating a cosine wave."
     ]
    },
    {
     "cell_type": "code",
     "collapsed": false,
     "input": [
      "import numpy as np\n",
      "model.make_node('Cos', lambda t: np.cos(8*t))"
     ],
     "language": "python",
     "metadata": {},
     "outputs": []
    },
    {
     "cell_type": "markdown",
     "metadata": {},
     "source": [
      "##Step 3: Connect the Network Elements"
     ]
    },
    {
     "cell_type": "code",
     "collapsed": false,
     "input": [
      "# Connect the input signal to the neuron\n",
      "model.connect('Cos','Neuron')"
     ],
     "language": "python",
     "metadata": {},
     "outputs": []
    },
    {
     "cell_type": "markdown",
     "metadata": {},
     "source": [
      "##Step 4: Add Probes\n",
      "Anything that is probed will collect the data it produces over time, allowing us to analyze and visualize it later."
     ]
    },
    {
     "cell_type": "code",
     "collapsed": false,
     "input": [
      "model.probe('Cos') # The original input\n",
      "model.probe('Neuron.spikes') # The raw spikes from the neuron\n",
      "model.probe('Neuron.voltages') # Subthreshold soma voltage of the neuron\n",
      "model.probe('Neuron', filter=0.01) # Spikes filtered by a 10ms post-synaptic filter"
     ],
     "language": "python",
     "metadata": {},
     "outputs": []
    },
    {
     "cell_type": "markdown",
     "metadata": {},
     "source": [
      "## Step 5: Run the Model"
     ]
    },
    {
     "cell_type": "code",
     "collapsed": false,
     "input": [
      "sim = model.simulator() # Create the simulator\n",
      "sim.run(1) # Run it for 1 seconds"
     ],
     "language": "python",
     "metadata": {},
     "outputs": []
    },
    {
     "cell_type": "markdown",
     "metadata": {},
     "source": [
      "##Step 6: Plot the Results"
     ]
    },
    {
     "cell_type": "code",
     "collapsed": false,
     "input": [
      "%matplotlib inline\n",
      "import matplotlib.pyplot as plt\n",
      "\n",
      "# Plot the decoded output of the ensemble\n",
      "t = sim.data(model.t) #Get the time steps\n",
      "plt.plot(t, sim.data('Neuron'))\n",
      "plt.plot(t, sim.data('Cos'))\n",
      "plt.xlim(0, 1)\n",
      "\n",
      "# Plot the spiking output of the ensemble\n",
      "from nengo.matplotlib import rasterplot\n",
      "plt.figure(figsize=(10,8))\n",
      "plt.subplot(221)\n",
      "rasterplot(t, sim.data('Neuron.spikes'))\n",
      "plt.ylabel(\"Neuron\")\n",
      "plt.xlim(0, 1)\n",
      "\n",
      "# Plot the soma voltages of the neurons\n",
      "plt.subplot(222)\n",
      "plt.plot(t, sim.data('Neuron.voltages')[:,0], 'r')\n",
      "plt.xlim(0, 1)\n"
     ],
     "language": "python",
     "metadata": {},
     "outputs": []
    },
    {
     "cell_type": "markdown",
     "metadata": {},
     "source": [
      "The top graph shows that the input signal in green and the filtered output spikes from the single neuron population in blue. The spikes (that are filtered) from the neuron are shown in the bottom graph on the left. On the right is the subthreshold voltages for the neuron."
     ]
    }
   ],
   "metadata": {}
  }
 ]
}